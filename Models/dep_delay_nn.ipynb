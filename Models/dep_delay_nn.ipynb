{
 "cells": [
  {
   "cell_type": "code",
   "metadata": {
    "ExecuteTime": {
     "end_time": "2025-04-20T16:58:34.726296Z",
     "start_time": "2025-04-20T16:58:32.767524Z"
    }
   },
   "source": [
    "import pandas as pd\n",
    "import numpy as np\n",
    "import glob\n",
    "import os\n",
    "import time\n",
    "import matplotlib.pyplot as plt\n",
    "import seaborn as sns\n",
    "from sklearn.model_selection import train_test_split\n",
    "from sklearn.preprocessing import StandardScaler, OneHotEncoder\n",
    "from sklearn.compose import ColumnTransformer\n",
    "from sklearn.pipeline import Pipeline\n",
    "from sklearn.impute import SimpleImputer\n",
    "from sklearn.metrics import mean_squared_error, mean_absolute_error, r2_score\n",
    "from sklearn.metrics import classification_report, confusion_matrix, roc_auc_score, roc_curve\n",
    "import torch\n",
    "import torch.nn as nn\n",
    "import torch.optim as optim\n",
    "from torch.utils.data import DataLoader, TensorDataset\n",
    "import json\n",
    "from tqdm import tqdm\n",
    "import warnings\n",
    "warnings.filterwarnings('ignore')\n",
    "\n",
    "# Set random seeds for reproducibility\n",
    "torch.manual_seed(2025)\n",
    "np.random.seed(2025)\n",
    "\n",
    "# Set device (CPU or GPU if available)\n",
    "device = torch.device(\"cpu\")\n",
    "print(f\"Using device: {device}\")\n",
    "\n",
    "# Utility function for JSON serialization\n",
    "def convert_to_serializable(obj):\n",
    "\n",
    "    if isinstance(obj, (np.integer, np.int64, np.int32, np.int16, np.int8)):\n",
    "        return int(obj)\n",
    "    elif isinstance(obj, (np.floating, np.float64, np.float32, np.float16)):\n",
    "        return float(obj)\n",
    "    elif isinstance(obj, (np.ndarray,)):\n",
    "        return obj.tolist()\n",
    "    elif isinstance(obj, (pd.DataFrame,)):\n",
    "        return obj.to_dict('records')\n",
    "    elif isinstance(obj, (pd.Series,)):\n",
    "        return obj.to_dict()\n",
    "    elif isinstance(obj, dict):\n",
    "        return {k: convert_to_serializable(v) for k, v in obj.items()}\n",
    "    elif isinstance(obj, list):\n",
    "        return [convert_to_serializable(item) for item in obj]\n",
    "    else:\n",
    "        return obj\n",
    "\n",
    "# Set data paths\n",
    "flight_data_path = './cleaned_data/'\n",
    "weather_data_path = './cleaned_weather_data/'\n",
    "top_airports_file = './top_100_airports.csv'\n",
    "output_dir = './dep_delay_nn/'\n",
    "\n",
    "# Create output directory if it doesn't exist\n",
    "os.makedirs(output_dir, exist_ok=True)\n",
    "\n",
    "print(\"Starting year-by-year flight delay prediction models (PyTorch ResNet)...\")\n",
    "print(f\"Flight data directory: {flight_data_path}\")\n",
    "print(f\"Weather data directory: {weather_data_path}\")\n",
    "print(f\"Top airports file: {top_airports_file}\")\n",
    "print(f\"Model output directory: {output_dir}\")\n",
    "\n",
    "# Load top 30 airports from the top 100 airports file\n",
    "try:\n",
    "    top_airports = pd.read_csv(top_airports_file, low_memory=False)\n",
    "\n",
    "    top_airports = top_airports.head(30)\n",
    "\n",
    "    top_airport_codes = set(top_airports['ORIGIN_IATA'].str.strip().tolist())\n",
    "    \n",
    "    print(f\"Loaded top 30 airports: {', '.join(sorted(top_airport_codes))}\")\n",
    "    print(f\"Busiest airport: {top_airports.iloc[0]['ORIGIN_IATA']} with {top_airports.iloc[0]['Times']} flights\")\n",
    "    print(f\"30th busiest airport: {top_airports.iloc[29]['ORIGIN_IATA']} with {top_airports.iloc[29]['Times']} flights\")\n",
    "except Exception as e:\n",
    "    print(f\"Error loading top airports file: {e}\")\n",
    "    top_airport_codes = None\n",
    "    print(\"Will process all airports (top airports file not available)\")"
   ],
   "outputs": [
    {
     "name": "stdout",
     "output_type": "stream",
     "text": [
      "Using device: cpu\n",
      "Starting year-by-year flight delay prediction models (PyTorch ResNet)...\n",
      "Flight data directory: ./cleaned_data/\n",
      "Weather data directory: ./cleaned_weather_data/\n",
      "Top airports file: ./top_100_airports.csv\n",
      "Model output directory: ./dep_delay_nn/\n",
      "Loaded top 30 airports: ATL, AUS, BNA, BOS, BWI, CLT, DCA, DEN, DFW, DTW, EWR, FLL, IAD, IAH, JFK, LAS, LAX, LGA, MCO, MDW, MIA, MSP, ORD, PHL, PHX, SAN, SEA, SFO, SLC, TPA\n",
      "Busiest airport: ATL with 457121 flights\n",
      "30th busiest airport: TPA with 97235 flights\n"
     ]
    }
   ],
   "execution_count": 1
  },
  {
   "cell_type": "code",
   "metadata": {
    "ExecuteTime": {
     "end_time": "2025-04-20T16:58:34.763302Z",
     "start_time": "2025-04-20T16:58:34.751302Z"
    }
   },
   "source": [
    "# Define ResNet-style blocks for neural networks\n",
    "class ResidualBlock(nn.Module):\n",
    "    def __init__(self, input_dim, hidden_dim=None):\n",
    "        super(ResidualBlock, self).__init__()\n",
    "        if hidden_dim is None:\n",
    "            hidden_dim = input_dim\n",
    "        \n",
    "        self.fc1 = nn.Linear(input_dim, hidden_dim)\n",
    "        self.bn1 = nn.BatchNorm1d(hidden_dim)\n",
    "        self.relu = nn.ReLU()\n",
    "        self.fc2 = nn.Linear(hidden_dim, input_dim)\n",
    "        self.bn2 = nn.BatchNorm1d(input_dim)\n",
    "        self.dropout = nn.Dropout(0.2)\n",
    "        \n",
    "    def forward(self, x):\n",
    "        identity = x\n",
    "        \n",
    "        out = self.fc1(x)\n",
    "        out = self.bn1(out)\n",
    "        out = self.relu(out)\n",
    "        out = self.dropout(out)\n",
    "        \n",
    "        out = self.fc2(out)\n",
    "        out = self.bn2(out)\n",
    "        \n",
    "        out += identity  # Skip connection\n",
    "        out = self.relu(out)\n",
    "        \n",
    "        return out\n",
    "\n",
    "class BottleneckResidualBlock(nn.Module):\n",
    "    def __init__(self, input_dim, bottleneck_dim):\n",
    "        super(BottleneckResidualBlock, self).__init__()\n",
    "        \n",
    "        self.fc1 = nn.Linear(input_dim, bottleneck_dim)\n",
    "        self.bn1 = nn.BatchNorm1d(bottleneck_dim)\n",
    "        self.fc2 = nn.Linear(bottleneck_dim, bottleneck_dim)\n",
    "        self.bn2 = nn.BatchNorm1d(bottleneck_dim)\n",
    "        self.fc3 = nn.Linear(bottleneck_dim, input_dim)\n",
    "        self.bn3 = nn.BatchNorm1d(input_dim)\n",
    "        \n",
    "        self.relu = nn.ReLU()\n",
    "        self.dropout = nn.Dropout(0.2)\n",
    "        \n",
    "    def forward(self, x):\n",
    "        identity = x\n",
    "        \n",
    "        out = self.fc1(x)\n",
    "        out = self.bn1(out)\n",
    "        out = self.relu(out)\n",
    "        \n",
    "        out = self.fc2(out)\n",
    "        out = self.bn2(out)\n",
    "        out = self.relu(out)\n",
    "        out = self.dropout(out)\n",
    "        \n",
    "        out = self.fc3(out)\n",
    "        out = self.bn3(out)\n",
    "        \n",
    "        out += identity  # Skip connection\n",
    "        out = self.relu(out)\n",
    "        \n",
    "        return out\n",
    "    \n",
    "\n",
    "# Define FlightDelayClassifier with ResNet architecture\n",
    "class FlightDelayClassifier(nn.Module):\n",
    "    def __init__(self, input_dim, hidden_dim=256):\n",
    "        super(FlightDelayClassifier, self).__init__()\n",
    "        \n",
    "        # Initial embedding layer\n",
    "        self.embedding = nn.Sequential(\n",
    "            nn.Linear(input_dim, hidden_dim),\n",
    "            nn.BatchNorm1d(hidden_dim),\n",
    "            nn.ReLU(),\n",
    "            nn.Dropout(0.3)\n",
    "        )\n",
    "        \n",
    "        # Residual blocks\n",
    "        self.res_block1 = ResidualBlock(hidden_dim)\n",
    "        self.res_block2 = ResidualBlock(hidden_dim)\n",
    "        self.res_block3 = ResidualBlock(hidden_dim)\n",
    "        \n",
    "        # Bottleneck residual block\n",
    "        self.bottleneck = BottleneckResidualBlock(hidden_dim, hidden_dim // 2)\n",
    "        \n",
    "        # Final prediction layers\n",
    "        self.prediction = nn.Sequential(\n",
    "            nn.Linear(hidden_dim, 64),\n",
    "            nn.BatchNorm1d(64),\n",
    "            nn.ReLU(),\n",
    "            nn.Dropout(0.2),\n",
    "            nn.Linear(64, 1),\n",
    "            nn.Sigmoid()\n",
    "        )\n",
    "        \n",
    "    def forward(self, x):\n",
    "        x = self.embedding(x)\n",
    "        x = self.res_block1(x)\n",
    "        x = self.res_block2(x)\n",
    "        x = self.res_block3(x)\n",
    "        x = self.bottleneck(x)\n",
    "        x = self.prediction(x)\n",
    "        return x\n",
    "\n",
    "# Define FlightDelayRegressor with ResNet architecture\n",
    "class FlightDelayRegressor(nn.Module):\n",
    "    def __init__(self, input_dim, hidden_dim=256):\n",
    "        super(FlightDelayRegressor, self).__init__()\n",
    "        \n",
    "        # Initial embedding layer\n",
    "        self.embedding = nn.Sequential(\n",
    "            nn.Linear(input_dim, hidden_dim),\n",
    "            nn.BatchNorm1d(hidden_dim),\n",
    "            nn.LeakyReLU(0.1),\n",
    "            nn.Dropout(0.3)\n",
    "        )\n",
    "        \n",
    "        # Residual blocks\n",
    "        self.res_block1 = ResidualBlock(hidden_dim)\n",
    "        self.res_block2 = ResidualBlock(hidden_dim)\n",
    "        self.res_block3 = ResidualBlock(hidden_dim)\n",
    "        \n",
    "        # Bottleneck residual block\n",
    "        self.bottleneck = BottleneckResidualBlock(hidden_dim, hidden_dim // 2)\n",
    "        \n",
    "        # Final prediction layers\n",
    "        self.prediction = nn.Sequential(\n",
    "            nn.Linear(hidden_dim, 64),\n",
    "            nn.BatchNorm1d(64),\n",
    "            nn.LeakyReLU(0.1),\n",
    "            nn.Dropout(0.2),\n",
    "            nn.Linear(64, 1)\n",
    "        )\n",
    "        \n",
    "    def forward(self, x):\n",
    "        x = self.embedding(x)\n",
    "        x = self.res_block1(x)\n",
    "        x = self.res_block2(x)\n",
    "        x = self.res_block3(x)\n",
    "        x = self.bottleneck(x)\n",
    "        x = self.prediction(x)\n",
    "        return x"
   ],
   "outputs": [],
   "execution_count": 2
  },
  {
   "cell_type": "code",
   "metadata": {
    "ExecuteTime": {
     "end_time": "2025-04-20T16:58:35.537589Z",
     "start_time": "2025-04-20T16:58:35.006888Z"
    }
   },
   "source": [
    "# Function to load weather data\n",
    "def load_weather_data():\n",
    "    print(\"\\nLoading weather data...\")\n",
    "    start_time = time.time()\n",
    "    \n",
    "    all_files = glob.glob(os.path.join(weather_data_path, \"*.csv\"))\n",
    "    print(f\"Found {len(all_files)} total weather data files\")\n",
    "    weather_dict = {}\n",
    "    count = 0\n",
    "    matching_count = 0\n",
    "    \n",
    "    for file in all_files:\n",
    "        try:\n",
    "            filename = os.path.basename(file)\n",
    "            parts = filename.split('.')[0].split('_')\n",
    "            \n",
    "            if len(parts) >= 3:\n",
    "                iata = parts[0]\n",
    "                year = parts[1]\n",
    "                month_name = parts[2]\n",
    "                \n",
    "                # Convert month name to number\n",
    "                month_map = {\n",
    "                    'Jan': '01', 'Feb': '02', 'Mar': '03', 'Apr': '04',\n",
    "                    'May': '05', 'Jun': '06', 'Jul': '07', 'Aug': '08',\n",
    "                    'Sep': '09', 'Oct': '10', 'Nov': '11', 'Dec': '12'\n",
    "                }\n",
    "                \n",
    "                if month_name in month_map:\n",
    "                    month = month_map[month_name]\n",
    "                    \n",
    "                    if top_airport_codes is None or iata in top_airport_codes:\n",
    "                        weather_data = pd.read_csv(file, low_memory=False)\n",
    "\n",
    "                        if 'DATE' not in weather_data.columns:\n",
    "                            print(f\"Warning: DATE column not found in {filename}\")\n",
    "                            continue\n",
    "\n",
    "                        weather_data['DATE'] = pd.to_datetime(weather_data['DATE'])\n",
    "\n",
    "                        key = f\"{iata}_{year}_{month}\"\n",
    "\n",
    "                        weather_dict[key] = weather_data\n",
    "                        matching_count += 1\n",
    "                else:\n",
    "                    print(f\"Warning: Unknown month format in {filename}\")\n",
    "                \n",
    "                count += 1\n",
    "\n",
    "                if count % 100 == 0:\n",
    "                    print(f\"Processed {count} weather files, loaded {matching_count} matching files\")\n",
    "        except Exception as e:\n",
    "            print(f\"Error loading weather file {file}: {e}\")\n",
    "    \n",
    "    print(f\"Loaded {matching_count} weather files out of {count} processed files\")\n",
    "    print(f\"Loading weather data took: {time.time() - start_time:.2f} seconds\")\n",
    "    return weather_dict\n",
    "\n",
    "# Get specific May files from the cleaned_data directory\n",
    "def get_may_files():\n",
    "    may_files = [\n",
    "        os.path.join(flight_data_path, \"May2021.csv\"),\n",
    "        os.path.join(flight_data_path, \"May2022.csv\"),\n",
    "        os.path.join(flight_data_path, \"May2023.csv\"),\n",
    "        os.path.join(flight_data_path, \"May2024.csv\")\n",
    "    ]\n",
    "\n",
    "    existing_files = []\n",
    "    for file_path in may_files:\n",
    "        if os.path.exists(file_path):\n",
    "            existing_files.append(file_path)\n",
    "        else:\n",
    "            print(f\"Warning: File {file_path} not found\")\n",
    "    \n",
    "    return existing_files\n",
    "\n",
    "# Get the May 2021-2024 flight data files\n",
    "flight_files = get_may_files()\n",
    "print(f\"\\nFound {len(flight_files)} May files to process:\")\n",
    "for f in flight_files:\n",
    "    print(f\"  - {os.path.basename(f)}\")\n",
    "\n",
    "if not flight_files:\n",
    "    print(\"No May 2021-2024 files were found. Please check file paths.\")\n",
    "    exit(1)\n",
    "\n",
    "weather_dict = load_weather_data()\n",
    "\n",
    "# Function to extract year from filename\n",
    "def extract_year_from_filename(filename):\n",
    "    base_name = os.path.basename(filename)\n",
    "    year_str = base_name.replace('May', '').split('.')[0]\n",
    "    return int(year_str)\n",
    "\n",
    "# Function to create red-eye flight indicator\n",
    "def create_redeye_indicator(df):\n",
    "    df = df.copy()\n",
    "    \n",
    "    df['IS_REDEYE'] = 0\n",
    "\n",
    "    time_columns = []\n",
    "\n",
    "    if 'SCH_DEP_TIME' in df.columns:\n",
    "        time_columns.append('SCH_DEP_TIME')\n",
    "\n",
    "    if 'SCH_ARR_TIME' in df.columns:\n",
    "        time_columns.append('SCH_ARR_TIME')\n",
    "\n",
    "    for col in time_columns:\n",
    "        if df[col].dtype != 'float64':\n",
    "            try:\n",
    "                df[col] = pd.to_numeric(df[col], errors='coerce')\n",
    "            except:\n",
    "                print(f\"Warning: Could not convert {col} to numeric\")\n",
    "    \n",
    "    # Identify red-eye flights based on scheduled departure time (0-6 AM)\n",
    "    if 'SCH_DEP_TIME' in time_columns:\n",
    "        redeye_departure = (df['SCH_DEP_TIME'] >= 0) & (df['SCH_DEP_TIME'] < 600)\n",
    "        df.loc[redeye_departure, 'IS_REDEYE'] = 1\n",
    "\n",
    "        dep_redeye_count = redeye_departure.sum()\n",
    "        print(f\"Identified {dep_redeye_count} red-eye flights based on departure time (0-6 AM)\")\n",
    "    \n",
    "    # Identify red-eye flights based on scheduled arrival time (0-6 AM)\n",
    "    if 'SCH_ARR_TIME' in time_columns:\n",
    "        redeye_arrival = (df['SCH_ARR_TIME'] >= 0) & (df['SCH_ARR_TIME'] < 600)\n",
    "        df.loc[redeye_arrival, 'IS_REDEYE'] = 1\n",
    "\n",
    "        arr_redeye_count = redeye_arrival.sum()\n",
    "        print(f\"Identified {arr_redeye_count} red-eye flights based on arrival time (0-6 AM)\")\n",
    "\n",
    "    redeye_count = df['IS_REDEYE'].sum()\n",
    "    total_count = len(df)\n",
    "    print(f\"Total identified red-eye flights: {redeye_count} out of {total_count} total flights ({redeye_count/total_count*100:.2f}%)\")\n",
    "    \n",
    "    # Add a more detailed time-of-day categorical feature if needed\n",
    "    if 'SCH_DEP_TIME' in time_columns:\n",
    "        df['DEP_TIME_OF_DAY'] = pd.cut(\n",
    "            df['SCH_DEP_TIME'], \n",
    "            bins=[0, 600, 1200, 1800, 2400],\n",
    "            labels=['Early Morning (0-6)', 'Morning (6-12)', 'Afternoon (12-18)', 'Evening (18-24)'],\n",
    "            include_lowest=True\n",
    "        )\n",
    "\n",
    "        time_dist = df['DEP_TIME_OF_DAY'].value_counts()\n",
    "        print(\"\\nDistribution of flights by departure time of day:\")\n",
    "        for time_cat, count in time_dist.items():\n",
    "            print(f\"  - {time_cat}: {count} flights ({count/total_count*100:.2f}%)\")\n",
    "    \n",
    "    return df\n",
    "\n",
    "# Function to prepare departure delay data\n",
    "def prepare_delay_data(df):\n",
    "    # Make a copy to avoid modifying the original\n",
    "    df = df.copy()\n",
    "\n",
    "    if 'DEP_DELAY' in df.columns:\n",
    "        if df['DEP_DELAY'].dtype != 'float64':\n",
    "            try:\n",
    "                df['DEP_DELAY'] = pd.to_numeric(df['DEP_DELAY'], errors='coerce')\n",
    "            except:\n",
    "                print(f\"Warning: Could not convert DEP_DELAY to numeric\")\n",
    "    else:\n",
    "        print(\"Warning: DEP_DELAY column not found in dataset\")\n",
    "        return df\n",
    "    \n",
    "    # Create a binary feature for on-time departure (<=0 means on time or early)\n",
    "    df['IS_DELAYED'] = (df['DEP_DELAY'] > 0).astype(int)\n",
    "    \n",
    "    # Create a categorical delay feature\n",
    "    df['DELAY_CATEGORY'] = pd.cut(\n",
    "        df['DEP_DELAY'],\n",
    "        bins=[-float('inf'), -15, 0, 15, 60, 120, float('inf')],\n",
    "        labels=['Very Early', 'Early', 'On Time', 'Moderate Delay',\n",
    "                'Significant Delay', 'Severe Delay'],\n",
    "        include_lowest=True\n",
    "    )\n",
    "    \n",
    "    df['ABS_DELAY'] = np.abs(df['DEP_DELAY'])\n",
    "\n",
    "    delay_count = df['IS_DELAYED'].sum()\n",
    "    total_count = len(df)\n",
    "    delay_rate = delay_count / total_count * 100\n",
    "    \n",
    "    print(f\"\\nDelay statistics:\")\n",
    "    print(f\"Delayed flights: {delay_count}/{total_count} ({delay_rate:.2f}%)\")\n",
    "    print(f\"On-time or early flights: {total_count - delay_count}/{total_count} ({100 - delay_rate:.2f}%)\")\n",
    "    \n",
    "    print(\"\\nDelay magnitude statistics:\")\n",
    "    print(f\"Mean delay: {df['DEP_DELAY'].mean():.2f} minutes\")\n",
    "    print(f\"Median delay: {df['DEP_DELAY'].median():.2f} minutes\")\n",
    "    print(f\"Min delay: {df['DEP_DELAY'].min():.2f} minutes (negative means early departure)\")\n",
    "    print(f\"Max delay: {df['DEP_DELAY'].max():.2f} minutes\")\n",
    "\n",
    "    upper_limit = df['DEP_DELAY'].quantile(0.995)\n",
    "    df['DEP_DELAY_CLIPPED'] = df['DEP_DELAY'].clip(upper=upper_limit)\n",
    "    \n",
    "    print(f\"Clipped delay values above {upper_limit:.2f} minutes for neural network training\")\n",
    "    print(f\"Number of clipped values: {(df['DEP_DELAY'] > upper_limit).sum()}\")\n",
    "\n",
    "    delay_cat_dist = df['DELAY_CATEGORY'].value_counts()\n",
    "    print(\"\\nDelay category distribution:\")\n",
    "    for cat, count in delay_cat_dist.sort_index().items():\n",
    "        print(f\"  - {cat}: {count} flights ({count/total_count*100:.2f}%)\")\n",
    "    \n",
    "    return df\n",
    "\n",
    "# Function to create advanced time features\n",
    "def create_advanced_time_features(df):\n",
    "    df = df.copy()\n",
    "    \n",
    "    if 'SCH_DEP_TIME' not in df.columns:\n",
    "        print(\"Warning: SCH_DEP_TIME column not found for time features\")\n",
    "        return df\n",
    "\n",
    "    if df['SCH_DEP_TIME'].dtype != 'float64':\n",
    "        try:\n",
    "            df['SCH_DEP_TIME'] = pd.to_numeric(df['SCH_DEP_TIME'], errors='coerce')\n",
    "        except:\n",
    "            print(f\"Warning: Could not convert SCH_DEP_TIME to numeric\")\n",
    "            return df\n",
    "\n",
    "    df['DEP_HOUR'] = (df['SCH_DEP_TIME'] // 100).astype(int)\n",
    "    df['DEP_MINUTE'] = (df['SCH_DEP_TIME'] % 100).astype(int)\n",
    "\n",
    "    df['TIME_MINS'] = df['DEP_HOUR'] * 60 + df['DEP_MINUTE']\n",
    "\n",
    "    df['NORMALIZED_TIME'] = df['TIME_MINS'] / (24 * 60)\n",
    "\n",
    "    df['HOUR_SIN'] = np.sin(2 * np.pi * df['DEP_HOUR'] / 24)\n",
    "    df['HOUR_COS'] = np.cos(2 * np.pi * df['DEP_HOUR'] / 24)\n",
    "    \n",
    "    # 12-hour cycle\n",
    "    df['HALFDAY_SIN'] = np.sin(2 * np.pi * df['DEP_HOUR'] / 12)\n",
    "    df['HALFDAY_COS'] = np.cos(2 * np.pi * df['DEP_HOUR'] / 12)\n",
    "    \n",
    "    # 6-hour cycle\n",
    "    df['QUARTER_DAY_SIN'] = np.sin(2 * np.pi * df['DEP_HOUR'] / 6)\n",
    "    df['QUARTER_DAY_COS'] = np.cos(2 * np.pi * df['DEP_HOUR'] / 6)\n",
    "    \n",
    "    # Create time blocks\n",
    "    time_blocks = {\n",
    "        0: 'Late Night (0-3)',\n",
    "        1: 'Late Night (0-3)',\n",
    "        2: 'Late Night (0-3)',\n",
    "        3: 'Early Morning (3-6)',\n",
    "        4: 'Early Morning (3-6)',\n",
    "        5: 'Early Morning (3-6)',\n",
    "        6: 'Morning (6-9)',\n",
    "        7: 'Morning (6-9)',\n",
    "        8: 'Morning (6-9)',\n",
    "        9: 'Mid-Day (9-12)',\n",
    "        10: 'Mid-Day (9-12)',\n",
    "        11: 'Mid-Day (9-12)',\n",
    "        12: 'Afternoon (12-15)',\n",
    "        13: 'Afternoon (12-15)',\n",
    "        14: 'Afternoon (12-15)',\n",
    "        15: 'Evening (15-18)',\n",
    "        16: 'Evening (15-18)',\n",
    "        17: 'Evening (15-18)',\n",
    "        18: 'Night (18-21)',\n",
    "        19: 'Night (18-21)',\n",
    "        20: 'Night (18-21)',\n",
    "        21: 'Late Night (21-24)',\n",
    "        22: 'Late Night (21-24)',\n",
    "        23: 'Late Night (21-24)'\n",
    "    }\n",
    "    \n",
    "    # Map hours to time blocks\n",
    "    df['TIME_BLOCK'] = df['DEP_HOUR'].map(time_blocks)\n",
    "\n",
    "    # Morning peak (7-9 AM)\n",
    "    df['IS_MORNING_PEAK'] = ((df['DEP_HOUR'] >= 7) & (df['DEP_HOUR'] <= 9)).astype(int)\n",
    "    \n",
    "    # Evening peak (4-7 PM)\n",
    "    df['IS_EVENING_PEAK'] = ((df['DEP_HOUR'] >= 16) & (df['DEP_HOUR'] <= 19)).astype(int)\n",
    "\n",
    "    if 'IS_MAJOR_HUB_ORIGIN' in df.columns:\n",
    "        df['HUB_MORNING_PEAK'] = df['IS_MAJOR_HUB_ORIGIN'] * df['IS_MORNING_PEAK']\n",
    "        df['HUB_EVENING_PEAK'] = df['IS_MAJOR_HUB_ORIGIN'] * df['IS_EVENING_PEAK']\n",
    "    \n",
    "    return df\n",
    "\n",
    "# Function to create day of week features\n",
    "def create_advanced_day_features(df):\n",
    "    df = df.copy()\n",
    "\n",
    "    if 'WEEK' in df.columns:\n",
    "        day_name_map = {\n",
    "            'Sun': 'Sunday',\n",
    "            'Mon': 'Monday',\n",
    "            'Tue': 'Tuesday',\n",
    "            'Wed': 'Wednesday',\n",
    "            'Thu': 'Thursday',\n",
    "            'Fri': 'Friday',\n",
    "            'Sat': 'Saturday'\n",
    "        }\n",
    "\n",
    "        df['DAY_NAME'] = df['WEEK'].map(day_name_map)\n",
    "\n",
    "        df['IS_WEEKEND'] = df['WEEK'].isin(['Sat', 'Sun']).astype(int)\n",
    "\n",
    "        day_to_num = {'Mon': 1, 'Tue': 2, 'Wed': 3, 'Thu': 4, 'Fri': 5, 'Sat': 6, 'Sun': 0}\n",
    "        df['DAY_NUM'] = df['WEEK'].map(day_to_num)\n",
    "        \n",
    "        # Weekly cycle\n",
    "        df['DAY_SIN'] = np.sin(2 * np.pi * df['DAY_NUM'] / 7)\n",
    "        df['DAY_COS'] = np.cos(2 * np.pi * df['DAY_NUM'] / 7)\n",
    "        \n",
    "        # Weekday/weekend cycle\n",
    "        df['WEEKDAY_SIN'] = np.sin(np.pi * df['IS_WEEKEND'])\n",
    "        df['WEEKDAY_COS'] = np.cos(np.pi * df['IS_WEEKEND'])\n",
    "        \n",
    "        # Create workweek features\n",
    "        df['WORKWEEK_DAY'] = df['DAY_NUM'].apply(lambda x: x if x < 5 else np.nan)\n",
    "        work_day_mean = df['WORKWEEK_DAY'].mean()\n",
    "        df['WORKWEEK_DAY'] = df['WORKWEEK_DAY'].fillna(work_day_mean)\n",
    "        \n",
    "        # Workweek cycle\n",
    "        df['WORKWEEK_SIN'] = np.sin(2 * np.pi * df['WORKWEEK_DAY'] / 5)\n",
    "        df['WORKWEEK_COS'] = np.cos(2 * np.pi * df['WORKWEEK_DAY'] / 5)\n",
    "\n",
    "        day_counts = df['DAY_NAME'].value_counts()\n",
    "        total = len(df)\n",
    "        print(\"\\nDistribution of flights by day of week:\")\n",
    "        for day, count in day_counts.items():\n",
    "            print(f\"  - {day}: {count} flights ({count/total*100:.2f}%)\")\n",
    "        \n",
    "        # Print weekend vs. weekday distribution\n",
    "        weekend_count = df['IS_WEEKEND'].sum()\n",
    "        weekday_count = total - weekend_count\n",
    "        print(f\"\\nWeekend flights: {weekend_count} ({weekend_count/total*100:.2f}%)\")\n",
    "        print(f\"Weekday flights: {weekday_count} ({weekday_count/total*100:.2f}%)\")\n",
    "        \n",
    "    elif 'DAY_OF_WEEK' in df.columns:\n",
    "        max_day = df['DAY_OF_WEEK'].max()\n",
    "        \n",
    "        if max_day == 7:\n",
    "            df['IS_WEEKEND'] = ((df['DAY_OF_WEEK'] == 6) | (df['DAY_OF_WEEK'] == 7)).astype(int)\n",
    "\n",
    "            day_names = {1: 'Monday', 2: 'Tuesday', 3: 'Wednesday', \n",
    "                        4: 'Thursday', 5: 'Friday', 6: 'Saturday', 7: 'Sunday'}\n",
    "\n",
    "            df['DAY_NUM'] = df['DAY_OF_WEEK'] - 1\n",
    "        else:\n",
    "            df['IS_WEEKEND'] = ((df['DAY_OF_WEEK'] == 5) | (df['DAY_OF_WEEK'] == 6)).astype(int)\n",
    "\n",
    "            day_names = {0: 'Monday', 1: 'Tuesday', 2: 'Wednesday', \n",
    "                        3: 'Thursday', 4: 'Friday', 5: 'Saturday', 6: 'Sunday'}\n",
    "\n",
    "            df['DAY_NUM'] = df['DAY_OF_WEEK']\n",
    "        \n",
    "        df['DAY_NAME'] = df['DAY_OF_WEEK'].map(day_names)\n",
    "        \n",
    "        # Add cyclic encoding\n",
    "        df['DAY_SIN'] = np.sin(2 * np.pi * df['DAY_NUM'] / 7)\n",
    "        df['DAY_COS'] = np.cos(2 * np.pi * df['DAY_NUM'] / 7)\n",
    "        \n",
    "        # Weekday/weekend cycle\n",
    "        df['WEEKDAY_SIN'] = np.sin(np.pi * df['IS_WEEKEND'])\n",
    "        df['WEEKDAY_COS'] = np.cos(np.pi * df['IS_WEEKEND'])\n",
    "    else:\n",
    "        print(\"Warning: No day of week column (WEEK or DAY_OF_WEEK) found\")\n",
    "    \n",
    "    return df\n",
    "\n",
    "# Function to create advanced airport features\n",
    "def create_airport_features(df):\n",
    "    df = df.copy()\n",
    "\n",
    "    major_hubs = ['ATL', 'DFW', 'DEN', 'ORD', 'LAX', 'CLT', 'LAS', 'PHX', 'MCO', 'SEA']\n",
    "\n",
    "    if 'ORIGIN_IATA' in df.columns:\n",
    "        df['IS_MAJOR_HUB_ORIGIN'] = df['ORIGIN_IATA'].isin(major_hubs).astype(int)\n",
    "    \n",
    "    if 'DEST_IATA' in df.columns:\n",
    "        df['IS_MAJOR_HUB_DEST'] = df['DEST_IATA'].isin(major_hubs).astype(int)\n",
    "\n",
    "    if 'IS_MAJOR_HUB_ORIGIN' in df.columns and 'IS_MAJOR_HUB_DEST' in df.columns:\n",
    "        df['IS_HUB_TO_HUB'] = (df['IS_MAJOR_HUB_ORIGIN'] & df['IS_MAJOR_HUB_DEST']).astype(int)\n",
    "    \n",
    "    # Create region indicators (simplistic example)\n",
    "    if 'ORIGIN_IATA' in df.columns:\n",
    "        west_coast = ['LAX', 'SFO', 'SEA', 'PDX', 'SAN', 'LAS']\n",
    "        east_coast = ['JFK', 'LGA', 'EWR', 'BOS', 'DCA', 'IAD', 'MIA', 'FLL', 'ATL', 'CLT']\n",
    "        central = ['ORD', 'MDW', 'DFW', 'IAH', 'DEN', 'MSP', 'DTW', 'STL']\n",
    "        \n",
    "        df['IS_WEST_COAST_ORIGIN'] = df['ORIGIN_IATA'].isin(west_coast).astype(int)\n",
    "        df['IS_EAST_COAST_ORIGIN'] = df['ORIGIN_IATA'].isin(east_coast).astype(int)\n",
    "        df['IS_CENTRAL_ORIGIN'] = df['ORIGIN_IATA'].isin(central).astype(int)\n",
    "        \n",
    "        df['IS_WEST_COAST_DEST'] = df['DEST_IATA'].isin(west_coast).astype(int)\n",
    "        df['IS_EAST_COAST_DEST'] = df['DEST_IATA'].isin(east_coast).astype(int)\n",
    "        df['IS_CENTRAL_DEST'] = df['DEST_IATA'].isin(central).astype(int)\n",
    "\n",
    "        df['IS_TRANSCON'] = ((df['IS_WEST_COAST_ORIGIN'] & df['IS_EAST_COAST_DEST']) | \n",
    "                             (df['IS_EAST_COAST_ORIGIN'] & df['IS_WEST_COAST_DEST'])).astype(int)\n",
    "    \n",
    "    # Create distance categories\n",
    "    if 'DISTANCE' in df.columns:\n",
    "        df['DISTANCE_CAT'] = pd.cut(\n",
    "            df['DISTANCE'], \n",
    "            bins=[0, 500, 1000, 1500, 2000, float('inf')],\n",
    "            labels=['Very Short', 'Short', 'Medium', 'Long', 'Very Long']\n",
    "        )\n",
    "\n",
    "        # Normalize distance\n",
    "        max_dist = df['DISTANCE'].max()\n",
    "        df['NORMALIZED_DISTANCE'] = df['DISTANCE'] / max_dist\n",
    "        \n",
    "        # Create logarithmic distance feature\n",
    "        df['LOG_DISTANCE'] = np.log1p(df['DISTANCE'])\n",
    "    \n",
    "    return df\n",
    "\n",
    "# Function to create advanced weather features\n",
    "def create_weather_features(df):\n",
    "    df = df.copy()\n",
    "\n",
    "    if 'PRCP' in df.columns:\n",
    "        df['RAIN_SEVERITY'] = pd.cut(\n",
    "            df['PRCP'],\n",
    "            bins=[-0.01, 0.0, 0.1, 0.5, 1.0, float('inf')],\n",
    "            labels=[0, 1, 2, 3, 4]\n",
    "        ).astype(int)\n",
    "    \n",
    "    # Combine weather features\n",
    "    if 'RAIN_SEVERITY' in df.columns and 'EXTREME_WEATHER' in df.columns:\n",
    "        df['WEATHER_SCORE'] = df['RAIN_SEVERITY'] + df['EXTREME_WEATHER'] * 3\n",
    "    \n",
    "    # Create weather interaction features\n",
    "    if 'IS_MAJOR_HUB_ORIGIN' in df.columns and 'WEATHER_SCORE' in df.columns:\n",
    "        df['HUB_WEATHER_IMPACT'] = df['IS_MAJOR_HUB_ORIGIN'] * df['WEATHER_SCORE']\n",
    "    \n",
    "    # Create time-weather interactions\n",
    "    if 'IS_MORNING_PEAK' in df.columns and 'WEATHER_SCORE' in df.columns:\n",
    "        df['PEAK_WEATHER_IMPACT'] = (df['IS_MORNING_PEAK'] | df['IS_EVENING_PEAK']) * df['WEATHER_SCORE']\n",
    "    \n",
    "    return df\n",
    "\n",
    "# Function to load and preprocess a single flight data file\n",
    "def load_and_process_flight_data(file_path):\n",
    "    print(f\"\\nProcessing {os.path.basename(file_path)}...\")\n",
    "    start_time = time.time()\n",
    "    \n",
    "    try:\n",
    "        df = pd.read_csv(file_path, low_memory=False)\n",
    "        original_size = len(df)\n",
    "\n",
    "        file_year = extract_year_from_filename(file_path)\n",
    "\n",
    "        if 'YEAR' in df.columns:\n",
    "            unique_years = df['YEAR'].unique()\n",
    "            print(f\"Years found in data: {unique_years}\")\n",
    "\n",
    "            if len(unique_years) > 1:\n",
    "                df = df[df['YEAR'] == file_year]\n",
    "                print(f\"Filtered to only year {file_year}: {len(df)} rows\")\n",
    "        else:\n",
    "            df['YEAR'] = file_year\n",
    "            print(f\"Added YEAR column with value {file_year}\")\n",
    "\n",
    "        if 'MONTH' in df.columns:\n",
    "            month_counts = df['MONTH'].value_counts()\n",
    "            print(f\"Months found in data: {dict(month_counts)}\")\n",
    "            \n",
    "            if 5 in month_counts:\n",
    "                df = df[df['MONTH'] == 5]\n",
    "                print(f\"Filtered to only May data: {len(df)} rows\")\n",
    "            else:\n",
    "                print(f\"Warning: No May data found in file, but proceeding anyway as this should be May data based on filename\")\n",
    "\n",
    "        if 'DEP_DELAY' not in df.columns:\n",
    "            print(f\"DEP_DELAY column not found in {os.path.basename(file_path)}. Skipping file.\")\n",
    "            return None\n",
    "\n",
    "        if top_airport_codes is not None:\n",
    "            df = df[\n",
    "                df['ORIGIN_IATA'].str.strip().isin(top_airport_codes) & \n",
    "                df['DEST_IATA'].str.strip().isin(top_airport_codes)\n",
    "            ]\n",
    "            \n",
    "            filtered_size = len(df)\n",
    "            print(f\"Filtered from {original_size} to {filtered_size} rows for top 30 airports\")\n",
    "\n",
    "            if filtered_size == 0:\n",
    "                print(f\"No data remaining after filtering for top 30 airports. Skipping file.\")\n",
    "                return None\n",
    "\n",
    "        if 'CANCELLED' in df.columns:\n",
    "            cancelled_count = df['CANCELLED'].sum()\n",
    "            if cancelled_count > 0:\n",
    "                df = df[df['CANCELLED'] == 0]\n",
    "                print(f\"Removed {cancelled_count} cancelled flights, remaining: {len(df)}\")\n",
    "\n",
    "        if df['DEP_DELAY'].isnull().any():\n",
    "            missing_count = df['DEP_DELAY'].isnull().sum()\n",
    "            print(f\"Found {missing_count} rows with missing DEP_DELAY values. Removing them.\")\n",
    "            df = df.dropna(subset=['DEP_DELAY'])\n",
    "            print(f\"After removing rows with missing DEP_DELAY: {len(df)} rows\")\n",
    "        \n",
    "        print(f\"Processing took: {time.time() - start_time:.2f} seconds\")\n",
    "        return df\n",
    "        \n",
    "    except Exception as e:\n",
    "        print(f\"Error processing file {os.path.basename(file_path)}: {e}\")\n",
    "        return None\n",
    "\n",
    "# Function to match weather data to flights\n",
    "def match_weather_data(df):\n",
    "\n",
    "    print(\"\\nMatching weather data with flights...\")\n",
    "    start_time = time.time()\n",
    "    \n",
    "    # Make sure necessary date columns exist\n",
    "    date_columns_exist = all(col in df.columns for col in ['YEAR', 'MONTH', 'DAY'])\n",
    "    if not date_columns_exist:\n",
    "        print(\"Warning: Missing one or more date columns (YEAR, MONTH, DAY)\")\n",
    "        print(\"Weather data cannot be matched\")\n",
    "        return df\n",
    "    \n",
    "    # Create a date column for matching\n",
    "    df['FLIGHT_DATE'] = pd.to_datetime(df[['YEAR', 'MONTH', 'DAY']])\n",
    "    \n",
    "    # Create a column to hold the weather key pattern\n",
    "    df['WEATHER_KEY'] = df['ORIGIN_IATA'] + '_' + df['YEAR'].astype(str) + '_' + df['MONTH'].astype(str).str.zfill(2)\n",
    "    \n",
    "    # Create columns for weather features\n",
    "    weather_columns = ['EXTREME_WEATHER', 'PRCP', 'WT01', 'WT03', 'WT04', 'WT05', 'WT08', 'WT11']\n",
    "    for col in weather_columns:\n",
    "        if col not in df.columns:\n",
    "            df[col] = 0.0\n",
    "    \n",
    "    # Process in batches\n",
    "    matched_count = 0\n",
    "    batch_size = 20000\n",
    "    \n",
    "    for start_idx in range(0, len(df), batch_size):\n",
    "        end_idx = min(start_idx + batch_size, len(df))\n",
    "        batch = df.iloc[start_idx:end_idx]\n",
    "        \n",
    "        for idx, row in batch.iterrows():\n",
    "            try:\n",
    "                weather_key = row['WEATHER_KEY']\n",
    "                flight_date = row['FLIGHT_DATE']\n",
    "\n",
    "                if weather_key in weather_dict:\n",
    "                    weather_data = weather_dict[weather_key]\n",
    "\n",
    "                    matching_weather = weather_data[weather_data['DATE'] == flight_date]\n",
    "                    \n",
    "                    if not matching_weather.empty:\n",
    "                        for col in weather_columns:\n",
    "                            if col in matching_weather.columns:\n",
    "                                df.at[idx, col] = matching_weather[col].iloc[0]\n",
    "                        matched_count += 1\n",
    "            except Exception as e:\n",
    "                pass\n",
    "        \n",
    "        # Print progress\n",
    "        print(f\"Processed {end_idx}/{len(df)} rows, matched {matched_count} flights with weather data\")\n",
    "    \n",
    "    print(f\"Matched weather data for {matched_count} flights ({matched_count/len(df)*100:.2f}%)\")\n",
    "    print(f\"Weather matching took: {time.time() - start_time:.2f} seconds\")\n",
    "    \n",
    "    return df"
   ],
   "outputs": [
    {
     "name": "stdout",
     "output_type": "stream",
     "text": [
      "\n",
      "Found 4 May files to process:\n",
      "  - May2021.csv\n",
      "  - May2022.csv\n",
      "  - May2023.csv\n",
      "  - May2024.csv\n",
      "\n",
      "Loading weather data...\n",
      "Found 3550 total weather data files\n",
      "Processed 100 weather files, loaded 0 matching files\n",
      "Processed 200 weather files, loaded 0 matching files\n",
      "Processed 300 weather files, loaded 16 matching files\n",
      "Processed 400 weather files, loaded 32 matching files\n",
      "Processed 500 weather files, loaded 32 matching files\n",
      "Processed 600 weather files, loaded 48 matching files\n",
      "Processed 700 weather files, loaded 48 matching files\n",
      "Processed 800 weather files, loaded 48 matching files\n",
      "Processed 900 weather files, loaded 64 matching files\n",
      "Processed 1000 weather files, loaded 64 matching files\n",
      "Processed 1100 weather files, loaded 80 matching files\n",
      "Processed 1200 weather files, loaded 96 matching files\n",
      "Processed 1300 weather files, loaded 112 matching files\n",
      "Processed 1400 weather files, loaded 112 matching files\n",
      "Processed 1500 weather files, loaded 112 matching files\n",
      "Processed 1600 weather files, loaded 112 matching files\n",
      "Processed 1700 weather files, loaded 128 matching files\n",
      "Processed 1800 weather files, loaded 128 matching files\n",
      "Processed 1900 weather files, loaded 143 matching files\n",
      "Processed 2000 weather files, loaded 160 matching files\n",
      "Processed 2100 weather files, loaded 160 matching files\n",
      "Processed 2200 weather files, loaded 192 matching files\n",
      "Processed 2300 weather files, loaded 208 matching files\n",
      "Processed 2400 weather files, loaded 208 matching files\n",
      "Processed 2500 weather files, loaded 224 matching files\n",
      "Processed 2600 weather files, loaded 240 matching files\n",
      "Processed 2700 weather files, loaded 240 matching files\n",
      "Processed 2800 weather files, loaded 256 matching files\n",
      "Processed 2900 weather files, loaded 256 matching files\n",
      "Processed 3000 weather files, loaded 272 matching files\n",
      "Processed 3100 weather files, loaded 286 matching files\n",
      "Processed 3200 weather files, loaded 306 matching files\n",
      "Processed 3300 weather files, loaded 320 matching files\n",
      "Processed 3400 weather files, loaded 336 matching files\n",
      "Processed 3500 weather files, loaded 336 matching files\n",
      "Loaded 336 weather files out of 3550 processed files\n",
      "Loading weather data took: 0.49 seconds\n"
     ]
    }
   ],
   "execution_count": 3
  },
  {
   "cell_type": "code",
   "metadata": {
    "ExecuteTime": {
     "end_time": "2025-04-20T16:58:35.669767Z",
     "start_time": "2025-04-20T16:58:35.555657Z"
    }
   },
   "source": [
    "def train_resnet_models(X_train, X_test, y_train_class, y_test_class, y_train_reg, y_test_reg, year, output_dir):\n",
    "    print(\"\\nBuilding and training ResNet neural network models...\")\n",
    "    start_time = time.time()\n",
    "\n",
    "    plots_dir = os.path.join(output_dir, f'plots_{year}')\n",
    "    models_dir = os.path.join(output_dir, f'models_{year}')\n",
    "    metrics_dir = os.path.join(output_dir, f'metrics_{year}')\n",
    "    \n",
    "    os.makedirs(plots_dir, exist_ok=True)\n",
    "    os.makedirs(models_dir, exist_ok=True)\n",
    "    os.makedirs(metrics_dir, exist_ok=True)\n",
    "\n",
    "    X_train_tensor = torch.FloatTensor(X_train).to(device)\n",
    "    X_test_tensor = torch.FloatTensor(X_test).to(device)\n",
    "    \n",
    "    y_train_class_tensor = torch.FloatTensor(y_train_class.values).to(device)\n",
    "    y_test_class_tensor = torch.FloatTensor(y_test_class.values).to(device)\n",
    "    \n",
    "    y_train_reg_tensor = torch.FloatTensor(y_train_reg.values).to(device)\n",
    "    y_test_reg_tensor = torch.FloatTensor(y_test_reg.values).to(device)\n",
    "\n",
    "    train_class_dataset = TensorDataset(X_train_tensor, y_train_class_tensor)\n",
    "    test_class_dataset = TensorDataset(X_test_tensor, y_test_class_tensor)\n",
    "    \n",
    "    train_reg_dataset = TensorDataset(X_train_tensor, y_train_reg_tensor)\n",
    "    test_reg_dataset = TensorDataset(X_test_tensor, y_test_reg_tensor)\n",
    "\n",
    "    batch_size = 1024\n",
    "    train_class_loader = DataLoader(train_class_dataset, batch_size=batch_size, shuffle=True)\n",
    "    test_class_loader = DataLoader(test_class_dataset, batch_size=batch_size)\n",
    "    \n",
    "    train_reg_loader = DataLoader(train_reg_dataset, batch_size=batch_size, shuffle=True)\n",
    "    test_reg_loader = DataLoader(test_reg_dataset, batch_size=batch_size)\n",
    "\n",
    "    print(\"\\nTraining ResNet classification model...\")\n",
    "    class_model_start_time = time.time()\n",
    "\n",
    "    # Initialize model\n",
    "    input_dim = X_train.shape[1]\n",
    "    classifier = FlightDelayClassifier(input_dim).to(device)\n",
    "\n",
    "    # Define loss function and optimizer\n",
    "    criterion_class = nn.BCELoss()\n",
    "    optimizer_class = optim.Adam(classifier.parameters(), lr=0.001, weight_decay=1e-5)\n",
    "\n",
    "    # Learning rate scheduler\n",
    "    scheduler_class = optim.lr_scheduler.ReduceLROnPlateau(\n",
    "        optimizer_class, mode='min', factor=0.5, patience=3, verbose=True\n",
    "    )\n",
    "\n",
    "    # Training loop parameters\n",
    "    num_epochs = 30\n",
    "    best_val_loss = float('inf')\n",
    "    patience = 5\n",
    "    patience_counter = 0\n",
    "    best_model_state = None\n",
    "    \n",
    "    # Metrics tracking\n",
    "    train_losses_class = []\n",
    "    val_losses_class = []\n",
    "    \n",
    "    # Training loop\n",
    "    for epoch in range(num_epochs):\n",
    "        classifier.train()\n",
    "        running_loss = 0.0\n",
    "        \n",
    "        for inputs, targets in tqdm(train_class_loader, desc=f\"Epoch {epoch+1}/{num_epochs}\"):\n",
    "            optimizer_class.zero_grad()\n",
    "            \n",
    "            # Forward pass\n",
    "            outputs = classifier(inputs)\n",
    "            outputs = outputs.squeeze()\n",
    "            loss = criterion_class(outputs, targets)\n",
    "            \n",
    "            # Backward pass and optimize\n",
    "            loss.backward()\n",
    "\n",
    "            # Gradient clipping to prevent exploding gradients\n",
    "            torch.nn.utils.clip_grad_norm_(classifier.parameters(), max_norm=1.0)\n",
    "            optimizer_class.step()\n",
    "            \n",
    "            running_loss += loss.item() * inputs.size(0)\n",
    "        \n",
    "        epoch_train_loss = running_loss / len(train_class_dataset)\n",
    "        train_losses_class.append(epoch_train_loss)\n",
    "        \n",
    "        # Validation\n",
    "        classifier.eval()\n",
    "        val_loss = 0.0\n",
    "        with torch.no_grad():\n",
    "            for inputs, targets in test_class_loader:\n",
    "                outputs = classifier(inputs)\n",
    "                outputs = outputs.squeeze()\n",
    "                loss = criterion_class(outputs, targets)\n",
    "                val_loss += loss.item() * inputs.size(0)\n",
    "        \n",
    "        epoch_val_loss = val_loss / len(test_class_dataset)\n",
    "        val_losses_class.append(epoch_val_loss)\n",
    "        \n",
    "        # Learning rate scheduling\n",
    "        scheduler_class.step(epoch_val_loss)\n",
    "        \n",
    "        # Print stats\n",
    "        print(f'Epoch {epoch+1}/{num_epochs}, Train Loss: {epoch_train_loss:.4f}, Val Loss: {epoch_val_loss:.4f}')\n",
    "        \n",
    "        # Save best model\n",
    "        if epoch_val_loss < best_val_loss:\n",
    "            best_val_loss = epoch_val_loss\n",
    "            best_model_state = classifier.state_dict().copy()\n",
    "            patience_counter = 0\n",
    "        else:\n",
    "            patience_counter += 1\n",
    "        \n",
    "        # Early stopping\n",
    "        if patience_counter >= patience:\n",
    "            print(f'Early stopping triggered after {epoch+1} epochs')\n",
    "            break\n",
    "    \n",
    "    # Load best model\n",
    "    classifier.load_state_dict(best_model_state)\n",
    "    \n",
    "    # Save model\n",
    "    torch.save(classifier.state_dict(), os.path.join(models_dir, f'resnet_classifier_{year}.pth'))\n",
    "    \n",
    "    class_model_training_time = time.time() - class_model_start_time\n",
    "    print(f\"Classification model training took: {class_model_training_time:.2f} seconds\")\n",
    "    \n",
    "    # Train Regression Model\n",
    "    print(\"\\nTraining ResNet regression model...\")\n",
    "    reg_model_start_time = time.time()\n",
    "    \n",
    "    # Initialize model\n",
    "    regressor = FlightDelayRegressor(input_dim).to(device)\n",
    "    \n",
    "    # Define loss function and optimizer\n",
    "    criterion_reg = nn.MSELoss()\n",
    "    optimizer_reg = optim.Adam(regressor.parameters(), lr=0.001, weight_decay=1e-5)\n",
    "    \n",
    "    # Learning rate scheduler\n",
    "    scheduler_reg = optim.lr_scheduler.ReduceLROnPlateau(\n",
    "        optimizer_reg, mode='min', factor=0.5, patience=3, verbose=True\n",
    "    )\n",
    "    \n",
    "    # Reset training loop parameters\n",
    "    best_val_loss = float('inf')\n",
    "    patience_counter = 0\n",
    "    best_model_state = None\n",
    "    \n",
    "    # Metrics tracking\n",
    "    train_losses_reg = []\n",
    "    val_losses_reg = []\n",
    "    \n",
    "    # Training loop\n",
    "    for epoch in range(num_epochs):\n",
    "        regressor.train()\n",
    "        running_loss = 0.0\n",
    "        \n",
    "        for inputs, targets in tqdm(train_reg_loader, desc=f\"Epoch {epoch+1}/{num_epochs}\"):\n",
    "            # Zero the parameter gradients\n",
    "            optimizer_reg.zero_grad()\n",
    "            \n",
    "            # Forward pass\n",
    "            outputs = regressor(inputs)\n",
    "            outputs = outputs.squeeze()\n",
    "            loss = criterion_reg(outputs, targets)\n",
    "            \n",
    "            # Backward pass and optimize\n",
    "            loss.backward()\n",
    "            # Gradient clipping to prevent exploding gradients\n",
    "            torch.nn.utils.clip_grad_norm_(regressor.parameters(), max_norm=1.0)\n",
    "            optimizer_reg.step()\n",
    "            \n",
    "            running_loss += loss.item() * inputs.size(0)\n",
    "        \n",
    "        epoch_train_loss = running_loss / len(train_reg_dataset)\n",
    "        train_losses_reg.append(epoch_train_loss)\n",
    "        \n",
    "        # Validation\n",
    "        regressor.eval()\n",
    "        val_loss = 0.0\n",
    "        with torch.no_grad():\n",
    "            for inputs, targets in test_reg_loader:\n",
    "                outputs = regressor(inputs)\n",
    "                outputs = outputs.squeeze()\n",
    "                loss = criterion_reg(outputs, targets)\n",
    "                val_loss += loss.item() * inputs.size(0)\n",
    "        \n",
    "        epoch_val_loss = val_loss / len(test_reg_dataset)\n",
    "        val_losses_reg.append(epoch_val_loss)\n",
    "        \n",
    "        # Learning rate scheduling\n",
    "        scheduler_reg.step(epoch_val_loss)\n",
    "        \n",
    "        # Print stats\n",
    "        print(f'Epoch {epoch+1}/{num_epochs}, Train Loss: {epoch_train_loss:.4f}, Val Loss: {epoch_val_loss:.4f}')\n",
    "        \n",
    "        # Save best model\n",
    "        if epoch_val_loss < best_val_loss:\n",
    "            best_val_loss = epoch_val_loss\n",
    "            best_model_state = regressor.state_dict().copy()\n",
    "            patience_counter = 0\n",
    "        else:\n",
    "            patience_counter += 1\n",
    "        \n",
    "        # Early stopping\n",
    "        if patience_counter >= patience:\n",
    "            print(f'Early stopping triggered after {epoch+1} epochs')\n",
    "            break\n",
    "    \n",
    "    # Load best model\n",
    "    regressor.load_state_dict(best_model_state)\n",
    "    \n",
    "    # Save model\n",
    "    torch.save(regressor.state_dict(), os.path.join(models_dir, f'resnet_regressor_{year}.pth'))\n",
    "    \n",
    "    reg_model_training_time = time.time() - reg_model_start_time\n",
    "    print(f\"Regression model training took: {reg_model_training_time:.2f} seconds\")\n",
    "    \n",
    "    # 3. Evaluate Classification Model\n",
    "    print(\"\\nEvaluating classification model...\")\n",
    "    \n",
    "    classifier.eval()\n",
    "    all_preds = []\n",
    "    all_targets = []\n",
    "    all_probs = []\n",
    "    \n",
    "    with torch.no_grad():\n",
    "        for inputs, targets in test_class_loader:\n",
    "            outputs = classifier(inputs)\n",
    "            outputs = outputs.squeeze()\n",
    "            \n",
    "            probs = outputs.cpu().numpy()\n",
    "            preds = (outputs >= 0.5).float().cpu().numpy()\n",
    "            \n",
    "            all_probs.extend(probs)\n",
    "            all_preds.extend(preds)\n",
    "            all_targets.extend(targets.cpu().numpy())\n",
    "    \n",
    "    all_preds = np.array(all_preds)\n",
    "    all_targets = np.array(all_targets)\n",
    "    all_probs = np.array(all_probs)\n",
    "    \n",
    "    # Calculate metrics\n",
    "    class_accuracy = (all_preds == all_targets).mean() * 100\n",
    "\n",
    "    if len(np.unique(all_targets)) > 1:\n",
    "        class_roc_auc = roc_auc_score(all_targets, all_probs)\n",
    "    else:\n",
    "        print(\"Warning: Only one class present in test set. ROC AUC score cannot be calculated.\")\n",
    "        class_roc_auc = 0.0\n",
    "    \n",
    "    class_report = classification_report(all_targets, all_preds, output_dict=True)\n",
    "    class_cm = confusion_matrix(all_targets, all_preds)\n",
    "    \n",
    "    print(f\"Classification Accuracy: {class_accuracy:.2f}%\")\n",
    "    print(f\"Classification ROC AUC: {class_roc_auc:.4f}\")\n",
    "\n",
    "    if '1' in class_report:\n",
    "        print(f\"Classification Precision (Delayed): {class_report['1']['precision']:.4f}\")\n",
    "        print(f\"Classification Recall (Delayed): {class_report['1']['recall']:.4f}\")\n",
    "        print(f\"Classification F1 Score (Delayed): {class_report['1']['f1-score']:.4f}\")\n",
    "        precision = class_report['1']['precision']\n",
    "        recall = class_report['1']['recall']\n",
    "        f1_score = class_report['1']['f1-score']\n",
    "    else:\n",
    "        print(\"Warning: Class '1' not present in test results. Using default metrics.\")\n",
    "        precision = 0.0\n",
    "        recall = 0.0\n",
    "        f1_score = 0.0\n",
    "    \n",
    "    # 4. Evaluate Regression Model\n",
    "    print(\"\\nEvaluating regression model...\")\n",
    "    \n",
    "    regressor.eval()\n",
    "    all_reg_preds = []\n",
    "    all_reg_targets = []\n",
    "    \n",
    "    with torch.no_grad():\n",
    "        for inputs, targets in test_reg_loader:\n",
    "            outputs = regressor(inputs)\n",
    "            outputs = outputs.squeeze()\n",
    "            \n",
    "            all_reg_preds.extend(outputs.cpu().numpy())\n",
    "            all_reg_targets.extend(targets.cpu().numpy())\n",
    "    \n",
    "    all_reg_preds = np.array(all_reg_preds)\n",
    "    all_reg_targets = np.array(all_reg_targets)\n",
    "    \n",
    "    # Calculate metrics\n",
    "    reg_mse = mean_squared_error(all_reg_targets, all_reg_preds)\n",
    "    reg_rmse = np.sqrt(reg_mse)\n",
    "    reg_mae = mean_absolute_error(all_reg_targets, all_reg_preds)\n",
    "    reg_r2 = r2_score(all_reg_targets, all_reg_preds)\n",
    "    \n",
    "    print(f\"Regression Mean Squared Error: {reg_mse:.2f}\")\n",
    "    print(f\"Regression Root Mean Squared Error: {reg_rmse:.2f} minutes\")\n",
    "    print(f\"Regression Mean Absolute Error: {reg_mae:.2f} minutes\")\n",
    "    print(f\"Regression R² Score: {reg_r2:.4f}\")\n",
    "    \n",
    "    # 5. Create plots and visualizations\n",
    "    \n",
    "    # Plot training/validation loss for classification\n",
    "    plt.figure(figsize=(16, 10))\n",
    "    plt.subplot(1, 2, 1)\n",
    "    plt.plot(train_losses_class, label='Train Loss')\n",
    "    plt.plot(val_losses_class, label='Validation Loss')\n",
    "    plt.title(f'Classification Loss Curves - {year}')\n",
    "    plt.xlabel('Epoch')\n",
    "    plt.ylabel('Loss')\n",
    "    plt.legend()\n",
    "    \n",
    "    # Plot training/validation loss for regression\n",
    "    plt.subplot(1, 2, 2)\n",
    "    plt.plot(train_losses_reg, label='Train Loss')\n",
    "    plt.plot(val_losses_reg, label='Validation Loss')\n",
    "    plt.title(f'Regression Loss Curves - {year}')\n",
    "    plt.xlabel('Epoch')\n",
    "    plt.ylabel('Loss')\n",
    "    plt.legend()\n",
    "    \n",
    "    plt.tight_layout()\n",
    "    plt.savefig(os.path.join(plots_dir, f'learning_curves_{year}.png'))\n",
    "    plt.close()\n",
    "    \n",
    "    # Plot confusion matrix for classification\n",
    "    plt.figure(figsize=(16, 10))\n",
    "    sns.heatmap(class_cm, annot=True, fmt='d', cmap='Blues', \n",
    "               xticklabels=['Not Delayed', 'Delayed'],\n",
    "               yticklabels=['Not Delayed', 'Delayed'])\n",
    "    plt.xlabel('Predicted')\n",
    "    plt.ylabel('Actual')\n",
    "    plt.title(f'Delay Classification Confusion Matrix ({year})')\n",
    "    plt.tight_layout()\n",
    "    plt.savefig(os.path.join(plots_dir, f'confusion_matrix_{year}.png'))\n",
    "    plt.close()\n",
    "\n",
    "    if len(np.unique(all_targets)) > 1:\n",
    "        # Plot ROC curve for classification\n",
    "        plt.figure(figsize=(16, 10))\n",
    "        fpr, tpr, _ = roc_curve(all_targets, all_probs)\n",
    "        plt.plot(fpr, tpr, label=f'ROC Curve (AUC = {class_roc_auc:.4f})')\n",
    "        plt.plot([0, 1], [0, 1], 'k--')\n",
    "        plt.xlabel('False Positive Rate')\n",
    "        plt.ylabel('True Positive Rate')\n",
    "        plt.title(f'ROC Curve for Delay Classification ({year})')\n",
    "        plt.legend()\n",
    "        plt.savefig(os.path.join(plots_dir, f'roc_curve_{year}.png'))\n",
    "        plt.close()\n",
    "    \n",
    "    # Plot actual vs predicted delays for regression\n",
    "    plt.figure(figsize=(16, 10))\n",
    "    \n",
    "    # Create a scatterplot with limited points for clarity\n",
    "    max_points = 5000\n",
    "    if len(all_reg_targets) > max_points:\n",
    "        idx = np.random.choice(len(all_reg_targets), max_points, replace=False)\n",
    "        sample_actual = all_reg_targets[idx]\n",
    "        sample_pred = all_reg_preds[idx]\n",
    "    else:\n",
    "        sample_actual = all_reg_targets\n",
    "        sample_pred = all_reg_preds\n",
    "    \n",
    "    plt.scatter(sample_actual, sample_pred, alpha=0.3)\n",
    "    \n",
    "    # Add perfect prediction line\n",
    "    max_val = max(np.max(sample_actual), np.max(sample_pred))\n",
    "    min_val = min(np.min(sample_actual), np.min(sample_pred))\n",
    "    plt.plot([min_val, max_val], [min_val, max_val], 'r--')\n",
    "    \n",
    "    plt.xlabel('Actual Delay (minutes)')\n",
    "    plt.ylabel('Predicted Delay (minutes)')\n",
    "    plt.title(f'Actual vs Predicted Delay ({year})')\n",
    "    plt.grid(True, linestyle='--', alpha=0.7)\n",
    "    plt.tight_layout()\n",
    "    plt.savefig(os.path.join(plots_dir, f'actual_vs_predicted_{year}.png'))\n",
    "    plt.close()\n",
    "    \n",
    "    # Plot delay prediction error distribution\n",
    "    plt.figure(figsize=(16, 10))\n",
    "    prediction_errors = all_reg_targets - all_reg_preds\n",
    "    sns.histplot(prediction_errors, bins=50, kde=True)\n",
    "    plt.axvline(0, color='red', linestyle='--')\n",
    "    plt.xlabel('Prediction Error (minutes)')\n",
    "    plt.ylabel('Frequency')\n",
    "    plt.title(f'Delay Prediction Error Distribution ({year})')\n",
    "    plt.grid(True, linestyle='--', alpha=0.7)\n",
    "    plt.tight_layout()\n",
    "    plt.savefig(os.path.join(plots_dir, f'error_distribution_{year}.png'))\n",
    "    plt.close()\n",
    "    \n",
    "    # Return metrics\n",
    "    metrics = {\n",
    "        'model_name': f'resnet_{year}',\n",
    "        'year': year,\n",
    "        \n",
    "        # Classification metrics\n",
    "        'class_accuracy': class_accuracy,\n",
    "        'class_roc_auc': class_roc_auc,\n",
    "        'class_precision': precision,\n",
    "        'class_recall': recall,\n",
    "        'class_f1': f1_score,\n",
    "        'class_training_time': class_model_training_time,\n",
    "        'class_epochs': len(train_losses_class),\n",
    "        \n",
    "        # Regression metrics\n",
    "        'reg_mse': reg_mse,\n",
    "        'reg_rmse': reg_rmse,\n",
    "        'reg_mae': reg_mae,\n",
    "        'reg_r2': reg_r2,\n",
    "        'reg_training_time': reg_model_training_time,\n",
    "        'reg_epochs': len(train_losses_reg),\n",
    "\n",
    "        'true_negative': int(class_cm[0, 0]) if class_cm.shape == (2, 2) else 0,\n",
    "        'false_positive': int(class_cm[0, 1]) if class_cm.shape == (2, 2) else 0,\n",
    "        'false_negative': int(class_cm[1, 0]) if class_cm.shape == (2, 2) else 0,\n",
    "        'true_positive': int(class_cm[1, 1]) if class_cm.shape == (2, 2) else 0,\n",
    "        \n",
    "        'status': 'success',\n",
    "        'total_processing_time': time.time() - start_time\n",
    "    }\n",
    "    \n",
    "    # Save metrics to JSON\n",
    "    with open(os.path.join(metrics_dir, f'resnet_model_metrics_{year}.json'), 'w') as f:\n",
    "        json.dump(convert_to_serializable(metrics), f, indent=4)\n",
    "    \n",
    "    return metrics, classifier, regressor\n",
    "\n",
    "# Function to train model for a specific year\n",
    "def train_year_model(year, flight_data_file):\n",
    "    print(f\"\\n{'='*80}\")\n",
    "    print(f\"Training ResNet model for year {year}\")\n",
    "    print(f\"{'='*80}\")\n",
    "    \n",
    "    # Create year-specific output directories\n",
    "    year_output_dir = os.path.join(output_dir, f'year_{year}')\n",
    "    os.makedirs(year_output_dir, exist_ok=True)\n",
    "    \n",
    "    start_time = time.time()\n",
    "    \n",
    "    # Load and preprocess the year's flight data\n",
    "    flight_data = load_and_process_flight_data(flight_data_file)\n",
    "    if flight_data is None or len(flight_data) == 0:\n",
    "        print(f\"No valid flight data available for {year}. Skipping this year.\")\n",
    "        return None\n",
    "    \n",
    "    # Match weather data\n",
    "    flight_data = match_weather_data(flight_data)\n",
    "    \n",
    "    # Add advanced feature enhancements\n",
    "    # Add red-eye flight indicator\n",
    "    print(f\"\\nCreating red-eye flight indicator for {year}...\")\n",
    "    flight_data = create_redeye_indicator(flight_data)\n",
    "\n",
    "    print(f\"\\nPreparing delay data for {year}...\")\n",
    "    flight_data = prepare_delay_data(flight_data)\n",
    "\n",
    "    print(f\"\\nCreating advanced time features for {year}...\")\n",
    "    flight_data = create_advanced_time_features(flight_data)\n",
    "\n",
    "    print(f\"\\nCreating advanced day features for {year}...\")\n",
    "    flight_data = create_advanced_day_features(flight_data)\n",
    "\n",
    "    print(f\"\\nCreating advanced airport features for {year}...\")\n",
    "    flight_data = create_airport_features(flight_data)\n",
    "\n",
    "    print(f\"\\nCreating advanced weather features for {year}...\")\n",
    "    flight_data = create_weather_features(flight_data)\n",
    "    \n",
    "    # Feature selection\n",
    "    print(f\"\\nSelecting features for delay prediction for {year}...\")\n",
    "    \n",
    "    # Categorical features\n",
    "    cat_features = [\n",
    "        'TIME_BLOCK', 'DAY_NAME', 'MKT_AIRLINE', 'ORIGIN_IATA', 'DEST_IATA',\n",
    "        'DISTANCE_CAT', 'EXTREME_WEATHER',\n",
    "        'IS_REDEYE', 'IS_WEEKEND', 'IS_MORNING_PEAK', 'IS_EVENING_PEAK',\n",
    "        'IS_MAJOR_HUB_ORIGIN', 'IS_MAJOR_HUB_DEST', 'IS_HUB_TO_HUB',\n",
    "        'IS_WEST_COAST_ORIGIN', 'IS_EAST_COAST_ORIGIN', 'IS_CENTRAL_ORIGIN',\n",
    "        'IS_WEST_COAST_DEST', 'IS_EAST_COAST_DEST', 'IS_CENTRAL_DEST',\n",
    "        'IS_TRANSCON',\n",
    "    ]\n",
    "    \n",
    "    # Numerical features - include advanced features\n",
    "    num_features = [\n",
    "        # Basic features\n",
    "        'DISTANCE', 'PRCP',\n",
    "        \n",
    "        # Cyclic time encodings\n",
    "        'HOUR_SIN', 'HOUR_COS', 'HALFDAY_SIN', 'HALFDAY_COS', \n",
    "        'QUARTER_DAY_SIN', 'QUARTER_DAY_COS',\n",
    "        \n",
    "        # Cyclic day encodings\n",
    "        'DAY_SIN', 'DAY_COS', 'WEEKDAY_SIN', 'WEEKDAY_COS',\n",
    "        'WORKWEEK_SIN', 'WORKWEEK_COS',\n",
    "        \n",
    "        # Advanced airport features\n",
    "        'NORMALIZED_DISTANCE', 'LOG_DISTANCE',\n",
    "        \n",
    "        # Advanced weather features\n",
    "        'RAIN_SEVERITY', 'WEATHER_SCORE', 'HUB_WEATHER_IMPACT', 'PEAK_WEATHER_IMPACT'\n",
    "    ]\n",
    "    \n",
    "    # Ensure all selected features exist in the dataframe\n",
    "    cat_features = [f for f in cat_features if f in flight_data.columns]\n",
    "    num_features = [f for f in num_features if f in flight_data.columns]\n",
    "    \n",
    "    print(f\"Using categorical features: {cat_features}\")\n",
    "    print(f\"Using numerical features: {num_features}\")\n",
    "    \n",
    "    # Prepare data for modeling\n",
    "    X = flight_data[cat_features + num_features].copy()\n",
    "    y_class = flight_data['IS_DELAYED']\n",
    "    \n",
    "    # For regression, use the clipped delay values to avoid extreme outliers\n",
    "    if 'DEP_DELAY_CLIPPED' in flight_data.columns:\n",
    "        y_reg = flight_data['DEP_DELAY_CLIPPED']\n",
    "        print(\"Using clipped delay values for regression to improve neural network training\")\n",
    "    else:\n",
    "        y_reg = flight_data['DEP_DELAY']\n",
    "    \n",
    "    # Handle missing values\n",
    "    for col in cat_features:\n",
    "        if X[col].isnull().sum() > 0:\n",
    "            X[col].fillna('unknown', inplace=True)\n",
    "    for col in num_features:\n",
    "        if X[col].isnull().sum() > 0:\n",
    "            X[col].fillna(X[col].median(), inplace=True)\n",
    "    \n",
    "    # Preprocess the data\n",
    "    print(f\"\\nPreprocessing features for neural network training...\")\n",
    "    \n",
    "    # Create preprocessing pipeline\n",
    "    numeric_transformer = Pipeline(steps=[\n",
    "        ('imputer', SimpleImputer(strategy='median')),\n",
    "        ('scaler', StandardScaler())\n",
    "    ])\n",
    "    \n",
    "    categorical_transformer = Pipeline(steps=[\n",
    "        ('imputer', SimpleImputer(strategy='constant', fill_value='unknown')),\n",
    "        ('onehot', OneHotEncoder(handle_unknown='ignore', sparse_output=False))\n",
    "    ])\n",
    "    \n",
    "    preprocessor = ColumnTransformer(\n",
    "        transformers=[\n",
    "            ('num', numeric_transformer, num_features),\n",
    "            ('cat', categorical_transformer, cat_features)\n",
    "        ]\n",
    "    )\n",
    "    \n",
    "    # Fit and transform the data\n",
    "    X_processed = preprocessor.fit_transform(X)\n",
    "    \n",
    "    print(f\"Processed feature shape: {X_processed.shape}\")\n",
    "    \n",
    "    # Split data for training and testing\n",
    "    X_train, X_test, y_train_class, y_test_class = train_test_split(\n",
    "        X_processed, y_class, test_size=0.1, random_state=2025, stratify=y_class\n",
    "    )\n",
    "    \n",
    "    # Split data for regression model\n",
    "    _, _, y_train_reg, y_test_reg = train_test_split(\n",
    "        X_processed, y_reg, test_size=0.1, random_state=2025\n",
    "    )\n",
    "    \n",
    "    print(f\"Training set size: {X_train.shape}\")\n",
    "    print(f\"Test set size: {X_test.shape}\")\n",
    "    \n",
    "    # Train ResNet models\n",
    "    metrics, classifier, regressor = train_resnet_models(\n",
    "        X_train, X_test, y_train_class, y_test_class, y_train_reg, y_test_reg, \n",
    "        year, year_output_dir\n",
    "    )\n",
    "    \n",
    "    # Add dataset metrics\n",
    "    metrics.update({\n",
    "        'total_flights': len(flight_data),\n",
    "        'delayed_flights_rate': flight_data['IS_DELAYED'].mean() * 100,\n",
    "        'mean_delay': flight_data['DEP_DELAY'].mean(),\n",
    "        'median_delay': flight_data['DEP_DELAY'].median(),\n",
    "        'max_delay': float(flight_data['DEP_DELAY'].max()),\n",
    "        'min_delay': float(flight_data['DEP_DELAY'].min()),\n",
    "        'feature_count': X_processed.shape[1],\n",
    "        'categorical_features': len(cat_features),\n",
    "        'numerical_features': len(num_features)\n",
    "    })\n",
    "    \n",
    "    # Save preprocessor for inference\n",
    "    import joblib\n",
    "    joblib.dump(preprocessor, os.path.join(year_output_dir, f'resnet_preprocessor_{year}.joblib'))\n",
    "    print(f\"Preprocessor saved to {os.path.join(year_output_dir, f'resnet_preprocessor_{year}.joblib')}\")\n",
    "    \n",
    "    print(f\"\\nResNet model training for {year} complete! Total processing time: {time.time() - start_time:.2f} seconds\")\n",
    "    return metrics\n"
   ],
   "outputs": [],
   "execution_count": 4
  },
  {
   "cell_type": "code",
   "metadata": {
    "ExecuteTime": {
     "end_time": "2025-04-20T17:16:40.012343Z",
     "start_time": "2025-04-20T16:58:35.697433Z"
    }
   },
   "source": [
    "# Function to compare ResNet models across years\n",
    "def compare_resnet_models(all_results):\n",
    "    print(\"\\nComparing ResNet models across years...\")\n",
    "    \n",
    "    if not all_results or len(all_results) < 2:\n",
    "        print(\"Not enough year models to compare.\")\n",
    "        return\n",
    "\n",
    "    comparison_dir = os.path.join(output_dir, 'comparison')\n",
    "    os.makedirs(comparison_dir, exist_ok=True)\n",
    "\n",
    "    years = sorted([r['year'] for r in all_results])\n",
    "    \n",
    "    # Create DataFrames for different metrics\n",
    "    class_metrics = pd.DataFrame({\n",
    "        'Year': years,\n",
    "        'Accuracy (%)': [r['class_accuracy'] for r in all_results],\n",
    "        'AUC': [r['class_roc_auc'] for r in all_results],\n",
    "        'Precision': [r['class_precision'] for r in all_results],\n",
    "        'Recall': [r['class_recall'] for r in all_results],\n",
    "        'F1 Score': [r['class_f1'] for r in all_results],\n",
    "    })\n",
    "    \n",
    "    reg_metrics = pd.DataFrame({\n",
    "        'Year': years,\n",
    "        'RMSE (min)': [r['reg_rmse'] for r in all_results],\n",
    "        'MAE (min)': [r['reg_mae'] for r in all_results],\n",
    "        'R² Score': [r['reg_r2'] for r in all_results],\n",
    "    })\n",
    "    \n",
    "    timing_metrics = pd.DataFrame({\n",
    "        'Year': years,\n",
    "        'Classification Training Time (s)': [r['class_training_time'] for r in all_results],\n",
    "        'Regression Training Time (s)': [r['reg_training_time'] for r in all_results],\n",
    "        'Classification Epochs': [r.get('class_epochs', 0) for r in all_results],\n",
    "        'Regression Epochs': [r.get('reg_epochs', 0) for r in all_results],\n",
    "    })\n",
    "    \n",
    "    delay_stats = pd.DataFrame({\n",
    "        'Year': years,\n",
    "        'Mean Delay (min)': [r['mean_delay'] for r in all_results],\n",
    "        'Delayed Flights (%)': [r['delayed_flights_rate'] for r in all_results],\n",
    "        'Total Flights': [r['total_flights'] for r in all_results],\n",
    "    })\n",
    "    \n",
    "    # Plot classification metrics\n",
    "    plt.figure(figsize=(16, 10))\n",
    "\n",
    "    bar_width = 0.15\n",
    "    r1 = np.arange(len(years))\n",
    "    r2 = [x + bar_width for x in r1]\n",
    "    r3 = [x + bar_width for x in r2]\n",
    "    r4 = [x + bar_width for x in r3]\n",
    "    r5 = [x + bar_width for x in r4]\n",
    "\n",
    "    plt.bar(r1, class_metrics['Accuracy (%)'] / 100, width=bar_width, label='Accuracy', color='blue')\n",
    "    plt.bar(r2, class_metrics['AUC'], width=bar_width, label='AUC', color='green')\n",
    "    plt.bar(r3, class_metrics['Precision'], width=bar_width, label='Precision', color='red')\n",
    "    plt.bar(r4, class_metrics['Recall'], width=bar_width, label='Recall', color='purple')\n",
    "    plt.bar(r5, class_metrics['F1 Score'], width=bar_width, label='F1 Score', color='orange')\n",
    "\n",
    "    for i, r in enumerate([r1, r2, r3, r4, r5]):\n",
    "        values = class_metrics.iloc[:, i+1].values\n",
    "        if i == 0:\n",
    "            values = values / 100\n",
    "        for j, v in enumerate(values):\n",
    "            plt.text(r[j], v + 0.01, f'{v:.2f}' if i > 0 else f'{v*100:.1f}%', \n",
    "                    ha='center', va='bottom', rotation=0, fontsize=8)\n",
    "\n",
    "    plt.xlabel('Year')\n",
    "    plt.ylabel('Score')\n",
    "    plt.title('ResNet Classification Metrics by Year')\n",
    "    plt.xticks([r + 2*bar_width for r in range(len(years))], years)\n",
    "    plt.legend()\n",
    "    plt.ylim(0, 1.0)  # Set y-axis limits for better visualization\n",
    "    plt.grid(axis='y', linestyle='--', alpha=0.7)\n",
    "    \n",
    "    # Save figure\n",
    "    plt.tight_layout()\n",
    "    plt.savefig(os.path.join(comparison_dir, 'resnet_classification_metrics_by_year.png'))\n",
    "    plt.close()\n",
    "    \n",
    "    # Plot regression metrics\n",
    "    fig, (ax1, ax2) = plt.subplots(1, 2, figsize=(14, 6))\n",
    "    \n",
    "    # Plot RMSE and MAE\n",
    "    x = np.arange(len(years))\n",
    "    width = 0.35\n",
    "    \n",
    "    ax1.bar(x - width/2, reg_metrics['RMSE (min)'], width, label='RMSE')\n",
    "    ax1.bar(x + width/2, reg_metrics['MAE (min)'], width, label='MAE')\n",
    "\n",
    "    for i, v in enumerate(reg_metrics['RMSE (min)']):\n",
    "        ax1.text(i - width/2, v + 0.5, f'{v:.1f}', ha='center', va='bottom')\n",
    "    for i, v in enumerate(reg_metrics['MAE (min)']):\n",
    "        ax1.text(i + width/2, v + 0.5, f'{v:.1f}', ha='center', va='bottom')\n",
    "    \n",
    "    ax1.set_xlabel('Year')\n",
    "    ax1.set_ylabel('Minutes')\n",
    "    ax1.set_title('ResNet Regression Error Metrics')\n",
    "    ax1.set_xticks(x)\n",
    "    ax1.set_xticklabels(years)\n",
    "    ax1.legend()\n",
    "    ax1.grid(axis='y', linestyle='--', alpha=0.7)\n",
    "    \n",
    "    # Plot R² Score\n",
    "    bars = ax2.bar(years, reg_metrics['R² Score'], color='green')\n",
    "\n",
    "    for bar, value in zip(bars, reg_metrics['R² Score']):\n",
    "        ax2.text(bar.get_x() + bar.get_width()/2, value + 0.01, f'{value:.3f}', \n",
    "                ha='center', va='bottom')\n",
    "    \n",
    "    ax2.set_xlabel('Year')\n",
    "    ax2.set_ylabel('R² Score')\n",
    "    ax2.set_title('ResNet Regression R² Score')\n",
    "    ax2.grid(axis='y', linestyle='--', alpha=0.7)\n",
    "    \n",
    "    # Save figure\n",
    "    plt.tight_layout()\n",
    "    plt.savefig(os.path.join(comparison_dir, 'resnet_regression_metrics_by_year.png'))\n",
    "    plt.close()\n",
    "    \n",
    "    # Plot training times and epochs\n",
    "    fig, (ax1, ax2) = plt.subplots(1, 2, figsize=(14, 6))\n",
    "    \n",
    "    # Plot training times\n",
    "    ax1.bar(x - width/2, timing_metrics['Classification Training Time (s)'], width, label='Classification')\n",
    "    ax1.bar(x + width/2, timing_metrics['Regression Training Time (s)'], width, label='Regression')\n",
    "\n",
    "    for i, v in enumerate(timing_metrics['Classification Training Time (s)']):\n",
    "        ax1.text(i - width/2, v + 5, f'{v:.0f}s', ha='center', va='bottom')\n",
    "    for i, v in enumerate(timing_metrics['Regression Training Time (s)']):\n",
    "        ax1.text(i + width/2, v + 5, f'{v:.0f}s', ha='center', va='bottom')\n",
    "    \n",
    "    ax1.set_xlabel('Year')\n",
    "    ax1.set_ylabel('Training Time (seconds)')\n",
    "    ax1.set_title('ResNet Training Times')\n",
    "    ax1.set_xticks(x)\n",
    "    ax1.set_xticklabels(years)\n",
    "    ax1.legend()\n",
    "    ax1.grid(axis='y', linestyle='--', alpha=0.7)\n",
    "    \n",
    "    # Plot epochs\n",
    "    ax2.bar(x - width/2, timing_metrics['Classification Epochs'], width, label='Classification')\n",
    "    ax2.bar(x + width/2, timing_metrics['Regression Epochs'], width, label='Regression')\n",
    "    \n",
    "    # Add text labels\n",
    "    for i, v in enumerate(timing_metrics['Classification Epochs']):\n",
    "        ax2.text(i - width/2, v + 0.5, f'{v:.0f}', ha='center', va='bottom')\n",
    "    for i, v in enumerate(timing_metrics['Regression Epochs']):\n",
    "        ax2.text(i + width/2, v + 0.5, f'{v:.0f}', ha='center', va='bottom')\n",
    "    \n",
    "    ax2.set_xlabel('Year')\n",
    "    ax2.set_ylabel('Number of Epochs')\n",
    "    ax2.set_title('ResNet Training Epochs')\n",
    "    ax2.set_xticks(x)\n",
    "    ax2.set_xticklabels(years)\n",
    "    ax2.legend()\n",
    "    ax2.grid(axis='y', linestyle='--', alpha=0.7)\n",
    "    \n",
    "    # Save figure\n",
    "    plt.tight_layout()\n",
    "    plt.savefig(os.path.join(comparison_dir, 'resnet_training_metrics_by_year.png'))\n",
    "    plt.close()\n",
    "    \n",
    "    # Plot delay statistics\n",
    "    fig, (ax1, ax2) = plt.subplots(1, 2, figsize=(14, 6))\n",
    "    \n",
    "    # Plot mean delay\n",
    "    bars1 = ax1.bar(years, delay_stats['Mean Delay (min)'], color='blue')\n",
    "    \n",
    "    # Add text labels\n",
    "    for bar, value in zip(bars1, delay_stats['Mean Delay (min)']):\n",
    "        ax1.text(bar.get_x() + bar.get_width()/2, value + 0.3, f'{value:.1f}', \n",
    "                ha='center', va='bottom')\n",
    "    \n",
    "    ax1.set_xlabel('Year')\n",
    "    ax1.set_ylabel('Minutes')\n",
    "    ax1.set_title('Mean Delay by Year')\n",
    "    ax1.grid(axis='y', linestyle='--', alpha=0.7)\n",
    "    \n",
    "    # Plot delay rate\n",
    "    bars2 = ax2.bar(years, delay_stats['Delayed Flights (%)'], color='red')\n",
    "\n",
    "    for bar, value in zip(bars2, delay_stats['Delayed Flights (%)']):\n",
    "        ax2.text(bar.get_x() + bar.get_width()/2, value + 0.5, f'{value:.1f}%', \n",
    "                ha='center', va='bottom')\n",
    "    \n",
    "    ax2.set_xlabel('Year')\n",
    "    ax2.set_ylabel('Percentage')\n",
    "    ax2.set_title('Delayed Flights Rate by Year')\n",
    "    ax2.grid(axis='y', linestyle='--', alpha=0.7)\n",
    "    \n",
    "    # Save figure\n",
    "    plt.tight_layout()\n",
    "    plt.savefig(os.path.join(comparison_dir, 'resnet_delay_stats_by_year.png'))\n",
    "    plt.close()\n",
    "    \n",
    "    # Create a summary table for all metrics\n",
    "    summary = pd.concat([\n",
    "        delay_stats.set_index('Year'),\n",
    "        class_metrics.set_index('Year').iloc[:, 1:],\n",
    "        reg_metrics.set_index('Year').iloc[:, 1:],\n",
    "        timing_metrics.set_index('Year').iloc[:, 1:]\n",
    "    ], axis=1)\n",
    "    \n",
    "    # Save the summary to CSV\n",
    "    summary.to_csv(os.path.join(comparison_dir, 'dep_delay_nn_summary.csv'))\n",
    "    print(f\"Comparison summary saved to {os.path.join(comparison_dir, 'dep_delay_nn_summary.csv')}\")\n",
    "    \n",
    "    print(\"ResNet model comparison completed!\")\n",
    "\n",
    "# Main execution\n",
    "all_results = []\n",
    "\n",
    "# Process each year's file separately\n",
    "for file_path in flight_files:\n",
    "    year = extract_year_from_filename(file_path)\n",
    "    results = train_year_model(year, file_path)\n",
    "    \n",
    "    if results:\n",
    "        all_results.append(results)\n",
    "        print(f\"\\nModel for year {year} completed successfully!\")\n",
    "    else:\n",
    "        print(f\"\\nModel for year {year} failed.\")\n",
    "\n",
    "if len(all_results) > 1:\n",
    "    compare_resnet_models(all_results)\n",
    "else:\n",
    "    print(\"\\nNot enough successful models to perform comparison.\")\n",
    "\n",
    "# Print final summary\n",
    "print(\"\\nYear-by-Year ResNet Model Training Summary:\")\n",
    "for year_result in all_results:\n",
    "    year = year_result['year']\n",
    "    print(f\"\\nYear {year}:\")\n",
    "    print(f\"  Total flights: {year_result['total_flights']:,}\")\n",
    "    print(f\"  Classification accuracy: {year_result['class_accuracy']:.2f}%\")\n",
    "    print(f\"  Classification AUC: {year_result['class_roc_auc']:.4f}\")\n",
    "    print(f\"  Regression RMSE: {year_result['reg_rmse']:.2f} minutes\")\n",
    "    print(f\"  Regression R²: {year_result['reg_r2']:.4f}\")\n",
    "    print(f\"  Mean delay: {year_result['mean_delay']:.2f} minutes\")\n",
    "    print(f\"  Delay rate: {year_result['delayed_flights_rate']:.2f}%\")\n",
    "    print(f\"  Training time: {year_result['total_processing_time']:.2f} seconds\")\n",
    "\n",
    "print(\"\\nResNet model training complete! Check output directories for detailed results.\")"
   ],
   "outputs": [
    {
     "name": "stdout",
     "output_type": "stream",
     "text": [
      "\n",
      "================================================================================\n",
      "Training ResNet model for year 2021\n",
      "================================================================================\n",
      "\n",
      "Processing May2021.csv...\n",
      "Years found in data: [2021]\n",
      "Months found in data: {5: 520059}\n",
      "Filtered to only May data: 520059 rows\n",
      "Filtered from 520059 to 171867 rows for top 30 airports\n",
      "Removed 485.0 cancelled flights, remaining: 171382\n",
      "Processing took: 2.72 seconds\n",
      "\n",
      "Matching weather data with flights...\n",
      "Processed 20000/171382 rows, matched 15255 flights with weather data\n",
      "Processed 40000/171382 rows, matched 30386 flights with weather data\n",
      "Processed 60000/171382 rows, matched 45609 flights with weather data\n",
      "Processed 80000/171382 rows, matched 60864 flights with weather data\n",
      "Processed 100000/171382 rows, matched 75976 flights with weather data\n",
      "Processed 120000/171382 rows, matched 91287 flights with weather data\n",
      "Processed 140000/171382 rows, matched 106365 flights with weather data\n",
      "Processed 160000/171382 rows, matched 121693 flights with weather data\n",
      "Processed 171382/171382 rows, matched 130389 flights with weather data\n",
      "Matched weather data for 130389 flights (76.08%)\n",
      "Weather matching took: 63.54 seconds\n",
      "\n",
      "Creating red-eye flight indicator for 2021...\n",
      "Identified 2854 red-eye flights based on departure time (0-6 AM)\n",
      "Identified 4648 red-eye flights based on arrival time (0-6 AM)\n",
      "Total identified red-eye flights: 7186 out of 171382 total flights (4.19%)\n",
      "\n",
      "Distribution of flights by departure time of day:\n",
      "  - Morning (6-12): 67291 flights (39.26%)\n",
      "  - Afternoon (12-18): 61243 flights (35.73%)\n",
      "  - Evening (18-24): 35957 flights (20.98%)\n",
      "  - Early Morning (0-6): 6891 flights (4.02%)\n",
      "\n",
      "Preparing delay data for 2021...\n",
      "\n",
      "Delay statistics:\n",
      "Delayed flights: 54865/171382 (32.01%)\n",
      "On-time or early flights: 116517/171382 (67.99%)\n",
      "\n",
      "Delay magnitude statistics:\n",
      "Mean delay: 6.99 minutes\n",
      "Median delay: -2.00 minutes\n",
      "Min delay: -35.00 minutes (negative means early departure)\n",
      "Max delay: 1800.00 minutes\n",
      "Clipped delay values above 223.00 minutes for neural network training\n",
      "Number of clipped values: 856\n",
      "\n",
      "Delay category distribution:\n",
      "  - Very Early: 355 flights (0.21%)\n",
      "  - Early: 116162 flights (67.78%)\n",
      "  - On Time: 31919 flights (18.62%)\n",
      "  - Moderate Delay: 15864 flights (9.26%)\n",
      "  - Significant Delay: 4268 flights (2.49%)\n",
      "  - Severe Delay: 2814 flights (1.64%)\n",
      "\n",
      "Creating advanced time features for 2021...\n",
      "\n",
      "Creating advanced day features for 2021...\n",
      "\n",
      "Distribution of flights by day of week:\n",
      "  - Monday: 28849 flights (16.83%)\n",
      "  - Sunday: 28404 flights (16.57%)\n",
      "  - Saturday: 25897 flights (15.11%)\n",
      "  - Friday: 23495 flights (13.71%)\n",
      "  - Thursday: 23320 flights (13.61%)\n",
      "  - Wednesday: 21034 flights (12.27%)\n",
      "  - Tuesday: 20383 flights (11.89%)\n",
      "\n",
      "Weekend flights: 54301 (31.68%)\n",
      "Weekday flights: 117081 (68.32%)\n",
      "\n",
      "Creating advanced airport features for 2021...\n",
      "\n",
      "Creating advanced weather features for 2021...\n",
      "\n",
      "Selecting features for delay prediction for 2021...\n",
      "Using categorical features: ['TIME_BLOCK', 'DAY_NAME', 'MKT_AIRLINE', 'ORIGIN_IATA', 'DEST_IATA', 'DISTANCE_CAT', 'EXTREME_WEATHER', 'IS_REDEYE', 'IS_WEEKEND', 'IS_MORNING_PEAK', 'IS_EVENING_PEAK', 'IS_MAJOR_HUB_ORIGIN', 'IS_MAJOR_HUB_DEST', 'IS_HUB_TO_HUB', 'IS_WEST_COAST_ORIGIN', 'IS_EAST_COAST_ORIGIN', 'IS_CENTRAL_ORIGIN', 'IS_WEST_COAST_DEST', 'IS_EAST_COAST_DEST', 'IS_CENTRAL_DEST', 'IS_TRANSCON']\n",
      "Using numerical features: ['DISTANCE', 'PRCP', 'HOUR_SIN', 'HOUR_COS', 'HALFDAY_SIN', 'HALFDAY_COS', 'QUARTER_DAY_SIN', 'QUARTER_DAY_COS', 'DAY_SIN', 'DAY_COS', 'WEEKDAY_SIN', 'WEEKDAY_COS', 'WORKWEEK_SIN', 'WORKWEEK_COS', 'NORMALIZED_DISTANCE', 'LOG_DISTANCE', 'RAIN_SEVERITY', 'WEATHER_SCORE', 'HUB_WEATHER_IMPACT', 'PEAK_WEATHER_IMPACT']\n",
      "Using clipped delay values for regression to improve neural network training\n",
      "\n",
      "Preprocessing features for neural network training...\n",
      "Processed feature shape: (171382, 139)\n",
      "Training set size: (154243, 139)\n",
      "Test set size: (17139, 139)\n",
      "\n",
      "Building and training ResNet neural network models...\n",
      "\n",
      "Training ResNet classification model...\n"
     ]
    },
    {
     "name": "stderr",
     "output_type": "stream",
     "text": [
      "Epoch 1/30: 100%|██████████| 151/151 [00:04<00:00, 30.35it/s]\n"
     ]
    },
    {
     "name": "stdout",
     "output_type": "stream",
     "text": [
      "Epoch 1/30, Train Loss: 0.5937, Val Loss: 0.5704\n"
     ]
    },
    {
     "name": "stderr",
     "output_type": "stream",
     "text": [
      "Epoch 2/30: 100%|██████████| 151/151 [00:04<00:00, 31.62it/s]\n"
     ]
    },
    {
     "name": "stdout",
     "output_type": "stream",
     "text": [
      "Epoch 2/30, Train Loss: 0.5699, Val Loss: 0.5673\n"
     ]
    },
    {
     "name": "stderr",
     "output_type": "stream",
     "text": [
      "Epoch 3/30: 100%|██████████| 151/151 [00:04<00:00, 31.56it/s]\n"
     ]
    },
    {
     "name": "stdout",
     "output_type": "stream",
     "text": [
      "Epoch 3/30, Train Loss: 0.5648, Val Loss: 0.5644\n"
     ]
    },
    {
     "name": "stderr",
     "output_type": "stream",
     "text": [
      "Epoch 4/30: 100%|██████████| 151/151 [00:04<00:00, 30.30it/s]\n"
     ]
    },
    {
     "name": "stdout",
     "output_type": "stream",
     "text": [
      "Epoch 4/30, Train Loss: 0.5610, Val Loss: 0.5632\n"
     ]
    },
    {
     "name": "stderr",
     "output_type": "stream",
     "text": [
      "Epoch 5/30: 100%|██████████| 151/151 [00:04<00:00, 31.56it/s]\n"
     ]
    },
    {
     "name": "stdout",
     "output_type": "stream",
     "text": [
      "Epoch 5/30, Train Loss: 0.5587, Val Loss: 0.5616\n"
     ]
    },
    {
     "name": "stderr",
     "output_type": "stream",
     "text": [
      "Epoch 6/30: 100%|██████████| 151/151 [00:04<00:00, 31.31it/s]\n"
     ]
    },
    {
     "name": "stdout",
     "output_type": "stream",
     "text": [
      "Epoch 6/30, Train Loss: 0.5567, Val Loss: 0.5611\n"
     ]
    },
    {
     "name": "stderr",
     "output_type": "stream",
     "text": [
      "Epoch 7/30: 100%|██████████| 151/151 [00:04<00:00, 32.14it/s]\n"
     ]
    },
    {
     "name": "stdout",
     "output_type": "stream",
     "text": [
      "Epoch 7/30, Train Loss: 0.5545, Val Loss: 0.5601\n"
     ]
    },
    {
     "name": "stderr",
     "output_type": "stream",
     "text": [
      "Epoch 8/30: 100%|██████████| 151/151 [00:04<00:00, 32.13it/s]\n"
     ]
    },
    {
     "name": "stdout",
     "output_type": "stream",
     "text": [
      "Epoch 8/30, Train Loss: 0.5527, Val Loss: 0.5590\n"
     ]
    },
    {
     "name": "stderr",
     "output_type": "stream",
     "text": [
      "Epoch 9/30: 100%|██████████| 151/151 [00:04<00:00, 31.57it/s]\n"
     ]
    },
    {
     "name": "stdout",
     "output_type": "stream",
     "text": [
      "Epoch 9/30, Train Loss: 0.5515, Val Loss: 0.5609\n"
     ]
    },
    {
     "name": "stderr",
     "output_type": "stream",
     "text": [
      "Epoch 10/30: 100%|██████████| 151/151 [00:04<00:00, 32.41it/s]\n"
     ]
    },
    {
     "name": "stdout",
     "output_type": "stream",
     "text": [
      "Epoch 10/30, Train Loss: 0.5497, Val Loss: 0.5578\n"
     ]
    },
    {
     "name": "stderr",
     "output_type": "stream",
     "text": [
      "Epoch 11/30: 100%|██████████| 151/151 [00:04<00:00, 31.80it/s]\n"
     ]
    },
    {
     "name": "stdout",
     "output_type": "stream",
     "text": [
      "Epoch 11/30, Train Loss: 0.5481, Val Loss: 0.5580\n"
     ]
    },
    {
     "name": "stderr",
     "output_type": "stream",
     "text": [
      "Epoch 12/30: 100%|██████████| 151/151 [00:04<00:00, 31.70it/s]\n"
     ]
    },
    {
     "name": "stdout",
     "output_type": "stream",
     "text": [
      "Epoch 12/30, Train Loss: 0.5464, Val Loss: 0.5584\n"
     ]
    },
    {
     "name": "stderr",
     "output_type": "stream",
     "text": [
      "Epoch 13/30: 100%|██████████| 151/151 [00:04<00:00, 31.61it/s]\n"
     ]
    },
    {
     "name": "stdout",
     "output_type": "stream",
     "text": [
      "Epoch 13/30, Train Loss: 0.5460, Val Loss: 0.5563\n"
     ]
    },
    {
     "name": "stderr",
     "output_type": "stream",
     "text": [
      "Epoch 14/30: 100%|██████████| 151/151 [00:04<00:00, 31.65it/s]\n"
     ]
    },
    {
     "name": "stdout",
     "output_type": "stream",
     "text": [
      "Epoch 14/30, Train Loss: 0.5448, Val Loss: 0.5583\n"
     ]
    },
    {
     "name": "stderr",
     "output_type": "stream",
     "text": [
      "Epoch 15/30: 100%|██████████| 151/151 [00:04<00:00, 32.16it/s]\n"
     ]
    },
    {
     "name": "stdout",
     "output_type": "stream",
     "text": [
      "Epoch 15/30, Train Loss: 0.5440, Val Loss: 0.5568\n"
     ]
    },
    {
     "name": "stderr",
     "output_type": "stream",
     "text": [
      "Epoch 16/30: 100%|██████████| 151/151 [00:04<00:00, 30.37it/s]\n"
     ]
    },
    {
     "name": "stdout",
     "output_type": "stream",
     "text": [
      "Epoch 16/30, Train Loss: 0.5422, Val Loss: 0.5571\n"
     ]
    },
    {
     "name": "stderr",
     "output_type": "stream",
     "text": [
      "Epoch 17/30: 100%|██████████| 151/151 [00:04<00:00, 30.53it/s]\n"
     ]
    },
    {
     "name": "stdout",
     "output_type": "stream",
     "text": [
      "Epoch 17/30, Train Loss: 0.5412, Val Loss: 0.5580\n"
     ]
    },
    {
     "name": "stderr",
     "output_type": "stream",
     "text": [
      "Epoch 18/30: 100%|██████████| 151/151 [00:04<00:00, 30.57it/s]\n"
     ]
    },
    {
     "name": "stdout",
     "output_type": "stream",
     "text": [
      "Epoch 18/30, Train Loss: 0.5376, Val Loss: 0.5573\n",
      "Early stopping triggered after 18 epochs\n",
      "Classification model training took: 90.79 seconds\n",
      "\n",
      "Training ResNet regression model...\n"
     ]
    },
    {
     "name": "stderr",
     "output_type": "stream",
     "text": [
      "Epoch 1/30: 100%|██████████| 151/151 [00:05<00:00, 29.24it/s]\n"
     ]
    },
    {
     "name": "stdout",
     "output_type": "stream",
     "text": [
      "Epoch 1/30, Train Loss: 847.7161, Val Loss: 822.7479\n"
     ]
    },
    {
     "name": "stderr",
     "output_type": "stream",
     "text": [
      "Epoch 2/30: 100%|██████████| 151/151 [00:04<00:00, 30.59it/s]\n"
     ]
    },
    {
     "name": "stdout",
     "output_type": "stream",
     "text": [
      "Epoch 2/30, Train Loss: 831.0405, Val Loss: 821.3936\n"
     ]
    },
    {
     "name": "stderr",
     "output_type": "stream",
     "text": [
      "Epoch 3/30: 100%|██████████| 151/151 [00:04<00:00, 30.43it/s]\n"
     ]
    },
    {
     "name": "stdout",
     "output_type": "stream",
     "text": [
      "Epoch 3/30, Train Loss: 830.3063, Val Loss: 821.4701\n"
     ]
    },
    {
     "name": "stderr",
     "output_type": "stream",
     "text": [
      "Epoch 4/30: 100%|██████████| 151/151 [00:04<00:00, 31.63it/s]\n"
     ]
    },
    {
     "name": "stdout",
     "output_type": "stream",
     "text": [
      "Epoch 4/30, Train Loss: 829.9547, Val Loss: 821.2881\n"
     ]
    },
    {
     "name": "stderr",
     "output_type": "stream",
     "text": [
      "Epoch 5/30: 100%|██████████| 151/151 [00:04<00:00, 31.98it/s]\n"
     ]
    },
    {
     "name": "stdout",
     "output_type": "stream",
     "text": [
      "Epoch 5/30, Train Loss: 829.8969, Val Loss: 821.0923\n"
     ]
    },
    {
     "name": "stderr",
     "output_type": "stream",
     "text": [
      "Epoch 6/30: 100%|██████████| 151/151 [00:04<00:00, 31.58it/s]\n"
     ]
    },
    {
     "name": "stdout",
     "output_type": "stream",
     "text": [
      "Epoch 6/30, Train Loss: 829.1811, Val Loss: 821.7577\n"
     ]
    },
    {
     "name": "stderr",
     "output_type": "stream",
     "text": [
      "Epoch 7/30: 100%|██████████| 151/151 [00:04<00:00, 31.15it/s]\n"
     ]
    },
    {
     "name": "stdout",
     "output_type": "stream",
     "text": [
      "Epoch 7/30, Train Loss: 828.7648, Val Loss: 822.0656\n"
     ]
    },
    {
     "name": "stderr",
     "output_type": "stream",
     "text": [
      "Epoch 8/30: 100%|██████████| 151/151 [00:04<00:00, 30.81it/s]\n"
     ]
    },
    {
     "name": "stdout",
     "output_type": "stream",
     "text": [
      "Epoch 8/30, Train Loss: 828.4775, Val Loss: 822.1150\n"
     ]
    },
    {
     "name": "stderr",
     "output_type": "stream",
     "text": [
      "Epoch 9/30: 100%|██████████| 151/151 [00:04<00:00, 31.79it/s]\n"
     ]
    },
    {
     "name": "stdout",
     "output_type": "stream",
     "text": [
      "Epoch 9/30, Train Loss: 828.3532, Val Loss: 823.1203\n"
     ]
    },
    {
     "name": "stderr",
     "output_type": "stream",
     "text": [
      "Epoch 10/30: 100%|██████████| 151/151 [00:04<00:00, 31.22it/s]\n"
     ]
    },
    {
     "name": "stdout",
     "output_type": "stream",
     "text": [
      "Epoch 10/30, Train Loss: 826.8704, Val Loss: 823.7136\n",
      "Early stopping triggered after 10 epochs\n",
      "Regression model training took: 50.48 seconds\n",
      "\n",
      "Evaluating classification model...\n",
      "Classification Accuracy: 72.71%\n",
      "Classification ROC AUC: 0.7215\n",
      "Warning: Class '1' not present in test results. Using default metrics.\n",
      "\n",
      "Evaluating regression model...\n",
      "Regression Mean Squared Error: 823.71\n",
      "Regression Root Mean Squared Error: 28.70 minutes\n",
      "Regression Mean Absolute Error: 14.64 minutes\n",
      "Regression R² Score: -0.0035\n",
      "Preprocessor saved to ./dep_delay_nn/year_2021\\resnet_preprocessor_2021.joblib\n",
      "\n",
      "ResNet model training for 2021 complete! Total processing time: 210.91 seconds\n",
      "\n",
      "Model for year 2021 completed successfully!\n",
      "\n",
      "================================================================================\n",
      "Training ResNet model for year 2022\n",
      "================================================================================\n",
      "\n",
      "Processing May2022.csv...\n",
      "Years found in data: [2022]\n",
      "Months found in data: {5: 602950}\n",
      "Filtered to only May data: 602950 rows\n",
      "Filtered from 602950 to 210079 rows for top 30 airports\n",
      "Removed 4659.0 cancelled flights, remaining: 205420\n",
      "Processing took: 3.03 seconds\n",
      "\n",
      "Matching weather data with flights...\n",
      "Processed 20000/205420 rows, matched 14381 flights with weather data\n",
      "Processed 40000/205420 rows, matched 28736 flights with weather data\n",
      "Processed 60000/205420 rows, matched 43280 flights with weather data\n",
      "Processed 80000/205420 rows, matched 57605 flights with weather data\n",
      "Processed 100000/205420 rows, matched 72193 flights with weather data\n",
      "Processed 120000/205420 rows, matched 86687 flights with weather data\n",
      "Processed 140000/205420 rows, matched 101221 flights with weather data\n",
      "Processed 160000/205420 rows, matched 115722 flights with weather data\n",
      "Processed 180000/205420 rows, matched 130269 flights with weather data\n",
      "Processed 200000/205420 rows, matched 144660 flights with weather data\n",
      "Processed 205420/205420 rows, matched 148501 flights with weather data\n",
      "Matched weather data for 148501 flights (72.29%)\n",
      "Weather matching took: 69.26 seconds\n",
      "\n",
      "Creating red-eye flight indicator for 2022...\n",
      "Identified 6093 red-eye flights based on departure time (0-6 AM)\n",
      "Identified 7457 red-eye flights based on arrival time (0-6 AM)\n",
      "Total identified red-eye flights: 13088 out of 205420 total flights (6.37%)\n",
      "\n",
      "Distribution of flights by departure time of day:\n",
      "  - Morning (6-12): 78343 flights (38.14%)\n",
      "  - Afternoon (12-18): 69688 flights (33.92%)\n",
      "  - Evening (18-24): 46622 flights (22.70%)\n",
      "  - Early Morning (0-6): 10767 flights (5.24%)\n",
      "\n",
      "Preparing delay data for 2022...\n",
      "\n",
      "Delay statistics:\n",
      "Delayed flights: 91269/205420 (44.43%)\n",
      "On-time or early flights: 114151/205420 (55.57%)\n",
      "\n",
      "Delay magnitude statistics:\n",
      "Mean delay: 14.56 minutes\n",
      "Median delay: 0.00 minutes\n",
      "Min delay: -34.00 minutes (negative means early departure)\n",
      "Max delay: 2109.00 minutes\n",
      "Clipped delay values above 280.00 minutes for neural network training\n",
      "Number of clipped values: 1023\n",
      "\n",
      "Delay category distribution:\n",
      "  - Very Early: 208 flights (0.10%)\n",
      "  - Early: 113943 flights (55.47%)\n",
      "  - On Time: 44584 flights (21.70%)\n",
      "  - Moderate Delay: 31050 flights (15.12%)\n",
      "  - Significant Delay: 9754 flights (4.75%)\n",
      "  - Severe Delay: 5881 flights (2.86%)\n",
      "\n",
      "Creating advanced time features for 2022...\n",
      "\n",
      "Creating advanced day features for 2022...\n",
      "\n",
      "Distribution of flights by day of week:\n",
      "  - Monday: 34057 flights (16.58%)\n",
      "  - Tuesday: 33242 flights (16.18%)\n",
      "  - Sunday: 33153 flights (16.14%)\n",
      "  - Thursday: 28003 flights (13.63%)\n",
      "  - Friday: 26923 flights (13.11%)\n",
      "  - Wednesday: 26859 flights (13.08%)\n",
      "  - Saturday: 23183 flights (11.29%)\n",
      "\n",
      "Weekend flights: 56336 (27.42%)\n",
      "Weekday flights: 149084 (72.58%)\n",
      "\n",
      "Creating advanced airport features for 2022...\n",
      "\n",
      "Creating advanced weather features for 2022...\n",
      "\n",
      "Selecting features for delay prediction for 2022...\n",
      "Using categorical features: ['TIME_BLOCK', 'DAY_NAME', 'MKT_AIRLINE', 'ORIGIN_IATA', 'DEST_IATA', 'DISTANCE_CAT', 'EXTREME_WEATHER', 'IS_REDEYE', 'IS_WEEKEND', 'IS_MORNING_PEAK', 'IS_EVENING_PEAK', 'IS_MAJOR_HUB_ORIGIN', 'IS_MAJOR_HUB_DEST', 'IS_HUB_TO_HUB', 'IS_WEST_COAST_ORIGIN', 'IS_EAST_COAST_ORIGIN', 'IS_CENTRAL_ORIGIN', 'IS_WEST_COAST_DEST', 'IS_EAST_COAST_DEST', 'IS_CENTRAL_DEST', 'IS_TRANSCON']\n",
      "Using numerical features: ['DISTANCE', 'PRCP', 'HOUR_SIN', 'HOUR_COS', 'HALFDAY_SIN', 'HALFDAY_COS', 'QUARTER_DAY_SIN', 'QUARTER_DAY_COS', 'DAY_SIN', 'DAY_COS', 'WEEKDAY_SIN', 'WEEKDAY_COS', 'WORKWEEK_SIN', 'WORKWEEK_COS', 'NORMALIZED_DISTANCE', 'LOG_DISTANCE', 'RAIN_SEVERITY', 'WEATHER_SCORE', 'HUB_WEATHER_IMPACT', 'PEAK_WEATHER_IMPACT']\n",
      "Using clipped delay values for regression to improve neural network training\n",
      "\n",
      "Preprocessing features for neural network training...\n",
      "Processed feature shape: (205420, 139)\n",
      "Training set size: (184878, 139)\n",
      "Test set size: (20542, 139)\n",
      "\n",
      "Building and training ResNet neural network models...\n",
      "\n",
      "Training ResNet classification model...\n"
     ]
    },
    {
     "name": "stderr",
     "output_type": "stream",
     "text": [
      "Epoch 1/30: 100%|██████████| 181/181 [00:05<00:00, 31.06it/s]\n"
     ]
    },
    {
     "name": "stdout",
     "output_type": "stream",
     "text": [
      "Epoch 1/30, Train Loss: 0.6405, Val Loss: 0.6244\n"
     ]
    },
    {
     "name": "stderr",
     "output_type": "stream",
     "text": [
      "Epoch 2/30: 100%|██████████| 181/181 [00:05<00:00, 31.41it/s]\n"
     ]
    },
    {
     "name": "stdout",
     "output_type": "stream",
     "text": [
      "Epoch 2/30, Train Loss: 0.6251, Val Loss: 0.6229\n"
     ]
    },
    {
     "name": "stderr",
     "output_type": "stream",
     "text": [
      "Epoch 3/30: 100%|██████████| 181/181 [00:05<00:00, 31.85it/s]\n"
     ]
    },
    {
     "name": "stdout",
     "output_type": "stream",
     "text": [
      "Epoch 3/30, Train Loss: 0.6215, Val Loss: 0.6199\n"
     ]
    },
    {
     "name": "stderr",
     "output_type": "stream",
     "text": [
      "Epoch 4/30: 100%|██████████| 181/181 [00:05<00:00, 31.62it/s]\n"
     ]
    },
    {
     "name": "stdout",
     "output_type": "stream",
     "text": [
      "Epoch 4/30, Train Loss: 0.6189, Val Loss: 0.6171\n"
     ]
    },
    {
     "name": "stderr",
     "output_type": "stream",
     "text": [
      "Epoch 5/30: 100%|██████████| 181/181 [00:05<00:00, 32.08it/s]\n"
     ]
    },
    {
     "name": "stdout",
     "output_type": "stream",
     "text": [
      "Epoch 5/30, Train Loss: 0.6168, Val Loss: 0.6163\n"
     ]
    },
    {
     "name": "stderr",
     "output_type": "stream",
     "text": [
      "Epoch 6/30: 100%|██████████| 181/181 [00:05<00:00, 31.45it/s]\n"
     ]
    },
    {
     "name": "stdout",
     "output_type": "stream",
     "text": [
      "Epoch 6/30, Train Loss: 0.6148, Val Loss: 0.6152\n"
     ]
    },
    {
     "name": "stderr",
     "output_type": "stream",
     "text": [
      "Epoch 7/30: 100%|██████████| 181/181 [00:05<00:00, 32.26it/s]\n"
     ]
    },
    {
     "name": "stdout",
     "output_type": "stream",
     "text": [
      "Epoch 7/30, Train Loss: 0.6133, Val Loss: 0.6149\n"
     ]
    },
    {
     "name": "stderr",
     "output_type": "stream",
     "text": [
      "Epoch 8/30: 100%|██████████| 181/181 [00:05<00:00, 31.82it/s]\n"
     ]
    },
    {
     "name": "stdout",
     "output_type": "stream",
     "text": [
      "Epoch 8/30, Train Loss: 0.6118, Val Loss: 0.6135\n"
     ]
    },
    {
     "name": "stderr",
     "output_type": "stream",
     "text": [
      "Epoch 9/30: 100%|██████████| 181/181 [00:05<00:00, 31.70it/s]\n"
     ]
    },
    {
     "name": "stdout",
     "output_type": "stream",
     "text": [
      "Epoch 9/30, Train Loss: 0.6100, Val Loss: 0.6134\n"
     ]
    },
    {
     "name": "stderr",
     "output_type": "stream",
     "text": [
      "Epoch 10/30: 100%|██████████| 181/181 [00:05<00:00, 32.29it/s]\n"
     ]
    },
    {
     "name": "stdout",
     "output_type": "stream",
     "text": [
      "Epoch 10/30, Train Loss: 0.6082, Val Loss: 0.6125\n"
     ]
    },
    {
     "name": "stderr",
     "output_type": "stream",
     "text": [
      "Epoch 11/30: 100%|██████████| 181/181 [00:05<00:00, 31.72it/s]\n"
     ]
    },
    {
     "name": "stdout",
     "output_type": "stream",
     "text": [
      "Epoch 11/30, Train Loss: 0.6075, Val Loss: 0.6123\n"
     ]
    },
    {
     "name": "stderr",
     "output_type": "stream",
     "text": [
      "Epoch 12/30: 100%|██████████| 181/181 [00:05<00:00, 32.16it/s]\n"
     ]
    },
    {
     "name": "stdout",
     "output_type": "stream",
     "text": [
      "Epoch 12/30, Train Loss: 0.6063, Val Loss: 0.6125\n"
     ]
    },
    {
     "name": "stderr",
     "output_type": "stream",
     "text": [
      "Epoch 13/30: 100%|██████████| 181/181 [00:05<00:00, 31.97it/s]\n"
     ]
    },
    {
     "name": "stdout",
     "output_type": "stream",
     "text": [
      "Epoch 13/30, Train Loss: 0.6047, Val Loss: 0.6113\n"
     ]
    },
    {
     "name": "stderr",
     "output_type": "stream",
     "text": [
      "Epoch 14/30: 100%|██████████| 181/181 [00:05<00:00, 31.82it/s]\n"
     ]
    },
    {
     "name": "stdout",
     "output_type": "stream",
     "text": [
      "Epoch 14/30, Train Loss: 0.6042, Val Loss: 0.6108\n"
     ]
    },
    {
     "name": "stderr",
     "output_type": "stream",
     "text": [
      "Epoch 15/30: 100%|██████████| 181/181 [00:05<00:00, 31.54it/s]\n"
     ]
    },
    {
     "name": "stdout",
     "output_type": "stream",
     "text": [
      "Epoch 15/30, Train Loss: 0.6035, Val Loss: 0.6109\n"
     ]
    },
    {
     "name": "stderr",
     "output_type": "stream",
     "text": [
      "Epoch 16/30: 100%|██████████| 181/181 [00:05<00:00, 32.20it/s]\n"
     ]
    },
    {
     "name": "stdout",
     "output_type": "stream",
     "text": [
      "Epoch 16/30, Train Loss: 0.6023, Val Loss: 0.6108\n"
     ]
    },
    {
     "name": "stderr",
     "output_type": "stream",
     "text": [
      "Epoch 17/30: 100%|██████████| 181/181 [00:05<00:00, 31.64it/s]\n"
     ]
    },
    {
     "name": "stdout",
     "output_type": "stream",
     "text": [
      "Epoch 17/30, Train Loss: 0.6015, Val Loss: 0.6122\n"
     ]
    },
    {
     "name": "stderr",
     "output_type": "stream",
     "text": [
      "Epoch 18/30: 100%|██████████| 181/181 [00:05<00:00, 31.90it/s]\n"
     ]
    },
    {
     "name": "stdout",
     "output_type": "stream",
     "text": [
      "Epoch 18/30, Train Loss: 0.5999, Val Loss: 0.6116\n"
     ]
    },
    {
     "name": "stderr",
     "output_type": "stream",
     "text": [
      "Epoch 19/30: 100%|██████████| 181/181 [00:05<00:00, 31.92it/s]\n"
     ]
    },
    {
     "name": "stdout",
     "output_type": "stream",
     "text": [
      "Epoch 19/30, Train Loss: 0.5966, Val Loss: 0.6121\n",
      "Early stopping triggered after 19 epochs\n",
      "Classification model training took: 112.29 seconds\n",
      "\n",
      "Training ResNet regression model...\n"
     ]
    },
    {
     "name": "stderr",
     "output_type": "stream",
     "text": [
      "Epoch 1/30: 100%|██████████| 181/181 [00:05<00:00, 30.82it/s]\n"
     ]
    },
    {
     "name": "stdout",
     "output_type": "stream",
     "text": [
      "Epoch 1/30, Train Loss: 1614.9247, Val Loss: 1515.9708\n"
     ]
    },
    {
     "name": "stderr",
     "output_type": "stream",
     "text": [
      "Epoch 2/30: 100%|██████████| 181/181 [00:05<00:00, 31.99it/s]\n"
     ]
    },
    {
     "name": "stdout",
     "output_type": "stream",
     "text": [
      "Epoch 2/30, Train Loss: 1515.5970, Val Loss: 1480.4517\n"
     ]
    },
    {
     "name": "stderr",
     "output_type": "stream",
     "text": [
      "Epoch 3/30: 100%|██████████| 181/181 [00:05<00:00, 30.79it/s]\n"
     ]
    },
    {
     "name": "stdout",
     "output_type": "stream",
     "text": [
      "Epoch 3/30, Train Loss: 1509.2241, Val Loss: 1480.1886\n"
     ]
    },
    {
     "name": "stderr",
     "output_type": "stream",
     "text": [
      "Epoch 4/30: 100%|██████████| 181/181 [00:05<00:00, 31.03it/s]\n"
     ]
    },
    {
     "name": "stdout",
     "output_type": "stream",
     "text": [
      "Epoch 4/30, Train Loss: 1508.3967, Val Loss: 1479.7611\n"
     ]
    },
    {
     "name": "stderr",
     "output_type": "stream",
     "text": [
      "Epoch 5/30: 100%|██████████| 181/181 [00:05<00:00, 31.13it/s]\n"
     ]
    },
    {
     "name": "stdout",
     "output_type": "stream",
     "text": [
      "Epoch 5/30, Train Loss: 1508.4203, Val Loss: 1480.4699\n"
     ]
    },
    {
     "name": "stderr",
     "output_type": "stream",
     "text": [
      "Epoch 6/30: 100%|██████████| 181/181 [00:06<00:00, 28.14it/s]\n"
     ]
    },
    {
     "name": "stdout",
     "output_type": "stream",
     "text": [
      "Epoch 6/30, Train Loss: 1508.0417, Val Loss: 1479.7657\n"
     ]
    },
    {
     "name": "stderr",
     "output_type": "stream",
     "text": [
      "Epoch 7/30: 100%|██████████| 181/181 [00:06<00:00, 27.82it/s]\n"
     ]
    },
    {
     "name": "stdout",
     "output_type": "stream",
     "text": [
      "Epoch 7/30, Train Loss: 1508.1159, Val Loss: 1480.1516\n"
     ]
    },
    {
     "name": "stderr",
     "output_type": "stream",
     "text": [
      "Epoch 8/30: 100%|██████████| 181/181 [00:06<00:00, 29.51it/s]\n"
     ]
    },
    {
     "name": "stdout",
     "output_type": "stream",
     "text": [
      "Epoch 8/30, Train Loss: 1508.4824, Val Loss: 1480.9817\n"
     ]
    },
    {
     "name": "stderr",
     "output_type": "stream",
     "text": [
      "Epoch 9/30: 100%|██████████| 181/181 [00:05<00:00, 30.74it/s]\n"
     ]
    },
    {
     "name": "stdout",
     "output_type": "stream",
     "text": [
      "Epoch 9/30, Train Loss: 1506.9640, Val Loss: 1480.4020\n",
      "Early stopping triggered after 9 epochs\n",
      "Regression model training took: 56.22 seconds\n",
      "\n",
      "Evaluating classification model...\n",
      "Classification Accuracy: 66.37%\n",
      "Classification ROC AUC: 0.7138\n",
      "Warning: Class '1' not present in test results. Using default metrics.\n",
      "\n",
      "Evaluating regression model...\n",
      "Regression Mean Squared Error: 1480.40\n",
      "Regression Root Mean Squared Error: 38.48 minutes\n",
      "Regression Mean Absolute Error: 22.38 minutes\n",
      "Regression R² Score: -0.0006\n",
      "Preprocessor saved to ./dep_delay_nn/year_2022\\resnet_preprocessor_2022.joblib\n",
      "\n",
      "ResNet model training for 2022 complete! Total processing time: 244.52 seconds\n",
      "\n",
      "Model for year 2022 completed successfully!\n",
      "\n",
      "================================================================================\n",
      "Training ResNet model for year 2023\n",
      "================================================================================\n",
      "\n",
      "Processing May2023.csv...\n",
      "Years found in data: [2023]\n",
      "Months found in data: {5: 616630}\n",
      "Filtered to only May data: 616630 rows\n",
      "Filtered from 616630 to 220469 rows for top 30 airports\n",
      "Removed 1293.0 cancelled flights, remaining: 219176\n",
      "Processing took: 3.31 seconds\n",
      "\n",
      "Matching weather data with flights...\n",
      "Processed 20000/219176 rows, matched 14364 flights with weather data\n",
      "Processed 40000/219176 rows, matched 28902 flights with weather data\n",
      "Processed 60000/219176 rows, matched 43539 flights with weather data\n",
      "Processed 80000/219176 rows, matched 58144 flights with weather data\n",
      "Processed 100000/219176 rows, matched 72856 flights with weather data\n",
      "Processed 120000/219176 rows, matched 86951 flights with weather data\n",
      "Processed 140000/219176 rows, matched 101252 flights with weather data\n",
      "Processed 160000/219176 rows, matched 115748 flights with weather data\n",
      "Processed 180000/219176 rows, matched 130383 flights with weather data\n",
      "Processed 200000/219176 rows, matched 145101 flights with weather data\n",
      "Processed 219176/219176 rows, matched 159344 flights with weather data\n",
      "Matched weather data for 159344 flights (72.70%)\n",
      "Weather matching took: 79.90 seconds\n",
      "\n",
      "Creating red-eye flight indicator for 2023...\n",
      "Identified 6485 red-eye flights based on departure time (0-6 AM)\n",
      "Identified 8863 red-eye flights based on arrival time (0-6 AM)\n",
      "Total identified red-eye flights: 15095 out of 219176 total flights (6.89%)\n",
      "\n",
      "Distribution of flights by departure time of day:\n",
      "  - Morning (6-12): 82862 flights (37.81%)\n",
      "  - Afternoon (12-18): 73196 flights (33.40%)\n",
      "  - Evening (18-24): 51478 flights (23.49%)\n",
      "  - Early Morning (0-6): 11640 flights (5.31%)\n",
      "\n",
      "Preparing delay data for 2023...\n",
      "\n",
      "Delay statistics:\n",
      "Delayed flights: 87833/219176 (40.07%)\n",
      "On-time or early flights: 131343/219176 (59.93%)\n",
      "\n",
      "Delay magnitude statistics:\n",
      "Mean delay: 12.35 minutes\n",
      "Median delay: -1.00 minutes\n",
      "Min delay: -29.00 minutes (negative means early departure)\n",
      "Max delay: 3221.00 minutes\n",
      "Clipped delay values above 278.00 minutes for neural network training\n",
      "Number of clipped values: 1093\n",
      "\n",
      "Delay category distribution:\n",
      "  - Very Early: 428 flights (0.20%)\n",
      "  - Early: 130915 flights (59.73%)\n",
      "  - On Time: 44120 flights (20.13%)\n",
      "  - Moderate Delay: 29279 flights (13.36%)\n",
      "  - Significant Delay: 8888 flights (4.06%)\n",
      "  - Severe Delay: 5546 flights (2.53%)\n",
      "\n",
      "Creating advanced time features for 2023...\n",
      "\n",
      "Creating advanced day features for 2023...\n",
      "\n",
      "Distribution of flights by day of week:\n",
      "  - Monday: 36506 flights (16.66%)\n",
      "  - Wednesday: 35633 flights (16.26%)\n",
      "  - Tuesday: 35382 flights (16.14%)\n",
      "  - Thursday: 29268 flights (13.35%)\n",
      "  - Friday: 29138 flights (13.29%)\n",
      "  - Sunday: 28009 flights (12.78%)\n",
      "  - Saturday: 25240 flights (11.52%)\n",
      "\n",
      "Weekend flights: 53249 (24.30%)\n",
      "Weekday flights: 165927 (75.70%)\n",
      "\n",
      "Creating advanced airport features for 2023...\n",
      "\n",
      "Creating advanced weather features for 2023...\n",
      "\n",
      "Selecting features for delay prediction for 2023...\n",
      "Using categorical features: ['TIME_BLOCK', 'DAY_NAME', 'MKT_AIRLINE', 'ORIGIN_IATA', 'DEST_IATA', 'DISTANCE_CAT', 'EXTREME_WEATHER', 'IS_REDEYE', 'IS_WEEKEND', 'IS_MORNING_PEAK', 'IS_EVENING_PEAK', 'IS_MAJOR_HUB_ORIGIN', 'IS_MAJOR_HUB_DEST', 'IS_HUB_TO_HUB', 'IS_WEST_COAST_ORIGIN', 'IS_EAST_COAST_ORIGIN', 'IS_CENTRAL_ORIGIN', 'IS_WEST_COAST_DEST', 'IS_EAST_COAST_DEST', 'IS_CENTRAL_DEST', 'IS_TRANSCON']\n",
      "Using numerical features: ['DISTANCE', 'PRCP', 'HOUR_SIN', 'HOUR_COS', 'HALFDAY_SIN', 'HALFDAY_COS', 'QUARTER_DAY_SIN', 'QUARTER_DAY_COS', 'DAY_SIN', 'DAY_COS', 'WEEKDAY_SIN', 'WEEKDAY_COS', 'WORKWEEK_SIN', 'WORKWEEK_COS', 'NORMALIZED_DISTANCE', 'LOG_DISTANCE', 'RAIN_SEVERITY', 'WEATHER_SCORE', 'HUB_WEATHER_IMPACT', 'PEAK_WEATHER_IMPACT']\n",
      "Using clipped delay values for regression to improve neural network training\n",
      "\n",
      "Preprocessing features for neural network training...\n",
      "Processed feature shape: (219176, 139)\n",
      "Training set size: (197258, 139)\n",
      "Test set size: (21918, 139)\n",
      "\n",
      "Building and training ResNet neural network models...\n",
      "\n",
      "Training ResNet classification model...\n"
     ]
    },
    {
     "name": "stderr",
     "output_type": "stream",
     "text": [
      "Epoch 1/30: 100%|██████████| 193/193 [00:06<00:00, 31.40it/s]\n"
     ]
    },
    {
     "name": "stdout",
     "output_type": "stream",
     "text": [
      "Epoch 1/30, Train Loss: 0.6241, Val Loss: 0.6020\n"
     ]
    },
    {
     "name": "stderr",
     "output_type": "stream",
     "text": [
      "Epoch 2/30: 100%|██████████| 193/193 [00:06<00:00, 31.19it/s]\n"
     ]
    },
    {
     "name": "stdout",
     "output_type": "stream",
     "text": [
      "Epoch 2/30, Train Loss: 0.6089, Val Loss: 0.5985\n"
     ]
    },
    {
     "name": "stderr",
     "output_type": "stream",
     "text": [
      "Epoch 3/30: 100%|██████████| 193/193 [00:06<00:00, 30.79it/s]\n"
     ]
    },
    {
     "name": "stdout",
     "output_type": "stream",
     "text": [
      "Epoch 3/30, Train Loss: 0.6049, Val Loss: 0.5969\n"
     ]
    },
    {
     "name": "stderr",
     "output_type": "stream",
     "text": [
      "Epoch 4/30: 100%|██████████| 193/193 [00:06<00:00, 31.23it/s]\n"
     ]
    },
    {
     "name": "stdout",
     "output_type": "stream",
     "text": [
      "Epoch 4/30, Train Loss: 0.6023, Val Loss: 0.5949\n"
     ]
    },
    {
     "name": "stderr",
     "output_type": "stream",
     "text": [
      "Epoch 5/30: 100%|██████████| 193/193 [00:06<00:00, 30.81it/s]\n"
     ]
    },
    {
     "name": "stdout",
     "output_type": "stream",
     "text": [
      "Epoch 5/30, Train Loss: 0.6006, Val Loss: 0.5936\n"
     ]
    },
    {
     "name": "stderr",
     "output_type": "stream",
     "text": [
      "Epoch 6/30: 100%|██████████| 193/193 [00:06<00:00, 31.58it/s]\n"
     ]
    },
    {
     "name": "stdout",
     "output_type": "stream",
     "text": [
      "Epoch 6/30, Train Loss: 0.5981, Val Loss: 0.5938\n"
     ]
    },
    {
     "name": "stderr",
     "output_type": "stream",
     "text": [
      "Epoch 7/30: 100%|██████████| 193/193 [00:06<00:00, 30.18it/s]\n"
     ]
    },
    {
     "name": "stdout",
     "output_type": "stream",
     "text": [
      "Epoch 7/30, Train Loss: 0.5966, Val Loss: 0.5912\n"
     ]
    },
    {
     "name": "stderr",
     "output_type": "stream",
     "text": [
      "Epoch 8/30: 100%|██████████| 193/193 [00:06<00:00, 30.51it/s]\n"
     ]
    },
    {
     "name": "stdout",
     "output_type": "stream",
     "text": [
      "Epoch 8/30, Train Loss: 0.5950, Val Loss: 0.5904\n"
     ]
    },
    {
     "name": "stderr",
     "output_type": "stream",
     "text": [
      "Epoch 9/30: 100%|██████████| 193/193 [00:06<00:00, 30.04it/s]\n"
     ]
    },
    {
     "name": "stdout",
     "output_type": "stream",
     "text": [
      "Epoch 9/30, Train Loss: 0.5936, Val Loss: 0.5916\n"
     ]
    },
    {
     "name": "stderr",
     "output_type": "stream",
     "text": [
      "Epoch 10/30: 100%|██████████| 193/193 [00:06<00:00, 29.78it/s]\n"
     ]
    },
    {
     "name": "stdout",
     "output_type": "stream",
     "text": [
      "Epoch 10/30, Train Loss: 0.5923, Val Loss: 0.5897\n"
     ]
    },
    {
     "name": "stderr",
     "output_type": "stream",
     "text": [
      "Epoch 11/30: 100%|██████████| 193/193 [00:06<00:00, 30.87it/s]\n"
     ]
    },
    {
     "name": "stdout",
     "output_type": "stream",
     "text": [
      "Epoch 11/30, Train Loss: 0.5904, Val Loss: 0.5880\n"
     ]
    },
    {
     "name": "stderr",
     "output_type": "stream",
     "text": [
      "Epoch 12/30: 100%|██████████| 193/193 [00:06<00:00, 30.82it/s]\n"
     ]
    },
    {
     "name": "stdout",
     "output_type": "stream",
     "text": [
      "Epoch 12/30, Train Loss: 0.5893, Val Loss: 0.5879\n"
     ]
    },
    {
     "name": "stderr",
     "output_type": "stream",
     "text": [
      "Epoch 13/30: 100%|██████████| 193/193 [00:06<00:00, 30.29it/s]\n"
     ]
    },
    {
     "name": "stdout",
     "output_type": "stream",
     "text": [
      "Epoch 13/30, Train Loss: 0.5882, Val Loss: 0.5883\n"
     ]
    },
    {
     "name": "stderr",
     "output_type": "stream",
     "text": [
      "Epoch 14/30: 100%|██████████| 193/193 [00:06<00:00, 30.05it/s]\n"
     ]
    },
    {
     "name": "stdout",
     "output_type": "stream",
     "text": [
      "Epoch 14/30, Train Loss: 0.5866, Val Loss: 0.5872\n"
     ]
    },
    {
     "name": "stderr",
     "output_type": "stream",
     "text": [
      "Epoch 15/30: 100%|██████████| 193/193 [00:06<00:00, 29.60it/s]\n"
     ]
    },
    {
     "name": "stdout",
     "output_type": "stream",
     "text": [
      "Epoch 15/30, Train Loss: 0.5860, Val Loss: 0.5865\n"
     ]
    },
    {
     "name": "stderr",
     "output_type": "stream",
     "text": [
      "Epoch 16/30: 100%|██████████| 193/193 [00:06<00:00, 30.72it/s]\n"
     ]
    },
    {
     "name": "stdout",
     "output_type": "stream",
     "text": [
      "Epoch 16/30, Train Loss: 0.5842, Val Loss: 0.5874\n"
     ]
    },
    {
     "name": "stderr",
     "output_type": "stream",
     "text": [
      "Epoch 17/30: 100%|██████████| 193/193 [00:06<00:00, 30.03it/s]\n"
     ]
    },
    {
     "name": "stdout",
     "output_type": "stream",
     "text": [
      "Epoch 17/30, Train Loss: 0.5842, Val Loss: 0.5863\n"
     ]
    },
    {
     "name": "stderr",
     "output_type": "stream",
     "text": [
      "Epoch 18/30: 100%|██████████| 193/193 [00:06<00:00, 29.91it/s]\n"
     ]
    },
    {
     "name": "stdout",
     "output_type": "stream",
     "text": [
      "Epoch 18/30, Train Loss: 0.5834, Val Loss: 0.5865\n"
     ]
    },
    {
     "name": "stderr",
     "output_type": "stream",
     "text": [
      "Epoch 19/30: 100%|██████████| 193/193 [00:06<00:00, 30.04it/s]\n"
     ]
    },
    {
     "name": "stdout",
     "output_type": "stream",
     "text": [
      "Epoch 19/30, Train Loss: 0.5824, Val Loss: 0.5842\n"
     ]
    },
    {
     "name": "stderr",
     "output_type": "stream",
     "text": [
      "Epoch 20/30: 100%|██████████| 193/193 [00:06<00:00, 29.30it/s]\n"
     ]
    },
    {
     "name": "stdout",
     "output_type": "stream",
     "text": [
      "Epoch 20/30, Train Loss: 0.5816, Val Loss: 0.5854\n"
     ]
    },
    {
     "name": "stderr",
     "output_type": "stream",
     "text": [
      "Epoch 21/30: 100%|██████████| 193/193 [00:06<00:00, 30.44it/s]\n"
     ]
    },
    {
     "name": "stdout",
     "output_type": "stream",
     "text": [
      "Epoch 21/30, Train Loss: 0.5804, Val Loss: 0.5871\n"
     ]
    },
    {
     "name": "stderr",
     "output_type": "stream",
     "text": [
      "Epoch 22/30: 100%|██████████| 193/193 [00:06<00:00, 30.73it/s]\n"
     ]
    },
    {
     "name": "stdout",
     "output_type": "stream",
     "text": [
      "Epoch 22/30, Train Loss: 0.5802, Val Loss: 0.5866\n"
     ]
    },
    {
     "name": "stderr",
     "output_type": "stream",
     "text": [
      "Epoch 23/30: 100%|██████████| 193/193 [00:06<00:00, 30.12it/s]\n"
     ]
    },
    {
     "name": "stdout",
     "output_type": "stream",
     "text": [
      "Epoch 23/30, Train Loss: 0.5789, Val Loss: 0.5861\n"
     ]
    },
    {
     "name": "stderr",
     "output_type": "stream",
     "text": [
      "Epoch 24/30: 100%|██████████| 193/193 [00:06<00:00, 29.69it/s]\n"
     ]
    },
    {
     "name": "stdout",
     "output_type": "stream",
     "text": [
      "Epoch 24/30, Train Loss: 0.5750, Val Loss: 0.5855\n",
      "Early stopping triggered after 24 epochs\n",
      "Classification model training took: 157.81 seconds\n",
      "\n",
      "Training ResNet regression model...\n"
     ]
    },
    {
     "name": "stderr",
     "output_type": "stream",
     "text": [
      "Epoch 1/30: 100%|██████████| 193/193 [00:06<00:00, 28.14it/s]\n"
     ]
    },
    {
     "name": "stdout",
     "output_type": "stream",
     "text": [
      "Epoch 1/30, Train Loss: 1438.8872, Val Loss: 1408.2061\n"
     ]
    },
    {
     "name": "stderr",
     "output_type": "stream",
     "text": [
      "Epoch 2/30: 100%|██████████| 193/193 [00:06<00:00, 30.01it/s]\n"
     ]
    },
    {
     "name": "stdout",
     "output_type": "stream",
     "text": [
      "Epoch 2/30, Train Loss: 1380.4762, Val Loss: 1400.6304\n"
     ]
    },
    {
     "name": "stderr",
     "output_type": "stream",
     "text": [
      "Epoch 3/30: 100%|██████████| 193/193 [00:06<00:00, 30.15it/s]\n"
     ]
    },
    {
     "name": "stdout",
     "output_type": "stream",
     "text": [
      "Epoch 3/30, Train Loss: 1378.8529, Val Loss: 1399.6069\n"
     ]
    },
    {
     "name": "stderr",
     "output_type": "stream",
     "text": [
      "Epoch 4/30: 100%|██████████| 193/193 [00:06<00:00, 29.37it/s]\n"
     ]
    },
    {
     "name": "stdout",
     "output_type": "stream",
     "text": [
      "Epoch 4/30, Train Loss: 1378.4181, Val Loss: 1399.8388\n"
     ]
    },
    {
     "name": "stderr",
     "output_type": "stream",
     "text": [
      "Epoch 5/30: 100%|██████████| 193/193 [00:06<00:00, 29.22it/s]\n"
     ]
    },
    {
     "name": "stdout",
     "output_type": "stream",
     "text": [
      "Epoch 5/30, Train Loss: 1378.4068, Val Loss: 1400.0257\n"
     ]
    },
    {
     "name": "stderr",
     "output_type": "stream",
     "text": [
      "Epoch 6/30: 100%|██████████| 193/193 [00:06<00:00, 29.41it/s]\n"
     ]
    },
    {
     "name": "stdout",
     "output_type": "stream",
     "text": [
      "Epoch 6/30, Train Loss: 1378.4954, Val Loss: 1400.0787\n"
     ]
    },
    {
     "name": "stderr",
     "output_type": "stream",
     "text": [
      "Epoch 7/30: 100%|██████████| 193/193 [00:06<00:00, 30.23it/s]\n"
     ]
    },
    {
     "name": "stdout",
     "output_type": "stream",
     "text": [
      "Epoch 7/30, Train Loss: 1377.4609, Val Loss: 1400.0746\n"
     ]
    },
    {
     "name": "stderr",
     "output_type": "stream",
     "text": [
      "Epoch 8/30: 100%|██████████| 193/193 [00:06<00:00, 29.82it/s]\n"
     ]
    },
    {
     "name": "stdout",
     "output_type": "stream",
     "text": [
      "Epoch 8/30, Train Loss: 1377.1616, Val Loss: 1400.9655\n",
      "Early stopping triggered after 8 epochs\n",
      "Regression model training took: 54.41 seconds\n",
      "\n",
      "Evaluating classification model...\n",
      "Classification Accuracy: 69.31%\n",
      "Classification ROC AUC: 0.7348\n",
      "Warning: Class '1' not present in test results. Using default metrics.\n",
      "\n",
      "Evaluating regression model...\n",
      "Regression Mean Squared Error: 1400.97\n",
      "Regression Root Mean Squared Error: 37.43 minutes\n",
      "Regression Mean Absolute Error: 20.97 minutes\n",
      "Regression R² Score: -0.0014\n",
      "Preprocessor saved to ./dep_delay_nn/year_2023\\resnet_preprocessor_2023.joblib\n",
      "\n",
      "ResNet model training for 2023 complete! Total processing time: 299.35 seconds\n",
      "\n",
      "Model for year 2023 completed successfully!\n",
      "\n",
      "================================================================================\n",
      "Training ResNet model for year 2024\n",
      "================================================================================\n",
      "\n",
      "Processing May2024.csv...\n",
      "Years found in data: [2024]\n",
      "Months found in data: {5: 649428}\n",
      "Filtered to only May data: 649428 rows\n",
      "Filtered from 649428 to 228159 rows for top 30 airports\n",
      "Removed 2994.0 cancelled flights, remaining: 225165\n",
      "Processing took: 3.32 seconds\n",
      "\n",
      "Matching weather data with flights...\n",
      "Processed 20000/225165 rows, matched 14410 flights with weather data\n",
      "Processed 40000/225165 rows, matched 29104 flights with weather data\n",
      "Processed 60000/225165 rows, matched 43708 flights with weather data\n",
      "Processed 80000/225165 rows, matched 58539 flights with weather data\n",
      "Processed 100000/225165 rows, matched 73009 flights with weather data\n",
      "Processed 120000/225165 rows, matched 87679 flights with weather data\n",
      "Processed 140000/225165 rows, matched 102419 flights with weather data\n",
      "Processed 160000/225165 rows, matched 117118 flights with weather data\n",
      "Processed 180000/225165 rows, matched 131691 flights with weather data\n",
      "Processed 200000/225165 rows, matched 146378 flights with weather data\n",
      "Processed 220000/225165 rows, matched 161154 flights with weather data\n",
      "Processed 225165/225165 rows, matched 165140 flights with weather data\n",
      "Matched weather data for 165140 flights (73.34%)\n",
      "Weather matching took: 81.26 seconds\n",
      "\n",
      "Creating red-eye flight indicator for 2024...\n",
      "Identified 6159 red-eye flights based on departure time (0-6 AM)\n",
      "Identified 8151 red-eye flights based on arrival time (0-6 AM)\n",
      "Total identified red-eye flights: 13987 out of 225165 total flights (6.21%)\n",
      "\n",
      "Distribution of flights by departure time of day:\n",
      "  - Morning (6-12): 84574 flights (37.56%)\n",
      "  - Afternoon (12-18): 77071 flights (34.23%)\n",
      "  - Evening (18-24): 51803 flights (23.01%)\n",
      "  - Early Morning (0-6): 11717 flights (5.20%)\n",
      "\n",
      "Preparing delay data for 2024...\n",
      "\n",
      "Delay statistics:\n",
      "Delayed flights: 105538/225165 (46.87%)\n",
      "On-time or early flights: 119627/225165 (53.13%)\n",
      "\n",
      "Delay magnitude statistics:\n",
      "Mean delay: 20.52 minutes\n",
      "Median delay: 0.00 minutes\n",
      "Min delay: -31.00 minutes (negative means early departure)\n",
      "Max delay: 2232.00 minutes\n",
      "Clipped delay values above 350.00 minutes for neural network training\n",
      "Number of clipped values: 1124\n",
      "\n",
      "Delay category distribution:\n",
      "  - Very Early: 451 flights (0.20%)\n",
      "  - Early: 119176 flights (52.93%)\n",
      "  - On Time: 43825 flights (19.46%)\n",
      "  - Moderate Delay: 36901 flights (16.39%)\n",
      "  - Significant Delay: 14300 flights (6.35%)\n",
      "  - Severe Delay: 10512 flights (4.67%)\n",
      "\n",
      "Creating advanced time features for 2024...\n",
      "\n",
      "Creating advanced day features for 2024...\n",
      "\n",
      "Distribution of flights by day of week:\n",
      "  - Friday: 37632 flights (16.71%)\n",
      "  - Thursday: 37381 flights (16.60%)\n",
      "  - Wednesday: 36037 flights (16.00%)\n",
      "  - Monday: 30205 flights (13.41%)\n",
      "  - Sunday: 28931 flights (12.85%)\n",
      "  - Tuesday: 28826 flights (12.80%)\n",
      "  - Saturday: 26153 flights (11.62%)\n",
      "\n",
      "Weekend flights: 55084 (24.46%)\n",
      "Weekday flights: 170081 (75.54%)\n",
      "\n",
      "Creating advanced airport features for 2024...\n",
      "\n",
      "Creating advanced weather features for 2024...\n",
      "\n",
      "Selecting features for delay prediction for 2024...\n",
      "Using categorical features: ['TIME_BLOCK', 'DAY_NAME', 'MKT_AIRLINE', 'ORIGIN_IATA', 'DEST_IATA', 'DISTANCE_CAT', 'EXTREME_WEATHER', 'IS_REDEYE', 'IS_WEEKEND', 'IS_MORNING_PEAK', 'IS_EVENING_PEAK', 'IS_MAJOR_HUB_ORIGIN', 'IS_MAJOR_HUB_DEST', 'IS_HUB_TO_HUB', 'IS_WEST_COAST_ORIGIN', 'IS_EAST_COAST_ORIGIN', 'IS_CENTRAL_ORIGIN', 'IS_WEST_COAST_DEST', 'IS_EAST_COAST_DEST', 'IS_CENTRAL_DEST', 'IS_TRANSCON']\n",
      "Using numerical features: ['DISTANCE', 'PRCP', 'HOUR_SIN', 'HOUR_COS', 'HALFDAY_SIN', 'HALFDAY_COS', 'QUARTER_DAY_SIN', 'QUARTER_DAY_COS', 'DAY_SIN', 'DAY_COS', 'WEEKDAY_SIN', 'WEEKDAY_COS', 'WORKWEEK_SIN', 'WORKWEEK_COS', 'NORMALIZED_DISTANCE', 'LOG_DISTANCE', 'RAIN_SEVERITY', 'WEATHER_SCORE', 'HUB_WEATHER_IMPACT', 'PEAK_WEATHER_IMPACT']\n",
      "Using clipped delay values for regression to improve neural network training\n",
      "\n",
      "Preprocessing features for neural network training...\n",
      "Processed feature shape: (225165, 139)\n",
      "Training set size: (202648, 139)\n",
      "Test set size: (22517, 139)\n",
      "\n",
      "Building and training ResNet neural network models...\n",
      "\n",
      "Training ResNet classification model...\n"
     ]
    },
    {
     "name": "stderr",
     "output_type": "stream",
     "text": [
      "Epoch 1/30: 100%|██████████| 198/198 [00:06<00:00, 31.93it/s]\n"
     ]
    },
    {
     "name": "stdout",
     "output_type": "stream",
     "text": [
      "Epoch 1/30, Train Loss: 0.6289, Val Loss: 0.6099\n"
     ]
    },
    {
     "name": "stderr",
     "output_type": "stream",
     "text": [
      "Epoch 2/30: 100%|██████████| 198/198 [00:06<00:00, 31.69it/s]\n"
     ]
    },
    {
     "name": "stdout",
     "output_type": "stream",
     "text": [
      "Epoch 2/30, Train Loss: 0.6155, Val Loss: 0.6068\n"
     ]
    },
    {
     "name": "stderr",
     "output_type": "stream",
     "text": [
      "Epoch 3/30: 100%|██████████| 198/198 [00:06<00:00, 29.97it/s]\n"
     ]
    },
    {
     "name": "stdout",
     "output_type": "stream",
     "text": [
      "Epoch 3/30, Train Loss: 0.6118, Val Loss: 0.6050\n"
     ]
    },
    {
     "name": "stderr",
     "output_type": "stream",
     "text": [
      "Epoch 4/30: 100%|██████████| 198/198 [00:06<00:00, 30.96it/s]\n"
     ]
    },
    {
     "name": "stdout",
     "output_type": "stream",
     "text": [
      "Epoch 4/30, Train Loss: 0.6093, Val Loss: 0.6030\n"
     ]
    },
    {
     "name": "stderr",
     "output_type": "stream",
     "text": [
      "Epoch 5/30: 100%|██████████| 198/198 [00:06<00:00, 30.54it/s]\n"
     ]
    },
    {
     "name": "stdout",
     "output_type": "stream",
     "text": [
      "Epoch 5/30, Train Loss: 0.6068, Val Loss: 0.6026\n"
     ]
    },
    {
     "name": "stderr",
     "output_type": "stream",
     "text": [
      "Epoch 6/30: 100%|██████████| 198/198 [00:06<00:00, 30.96it/s]\n"
     ]
    },
    {
     "name": "stdout",
     "output_type": "stream",
     "text": [
      "Epoch 6/30, Train Loss: 0.6045, Val Loss: 0.6004\n"
     ]
    },
    {
     "name": "stderr",
     "output_type": "stream",
     "text": [
      "Epoch 7/30: 100%|██████████| 198/198 [00:06<00:00, 30.43it/s]\n"
     ]
    },
    {
     "name": "stdout",
     "output_type": "stream",
     "text": [
      "Epoch 7/30, Train Loss: 0.6032, Val Loss: 0.6000\n"
     ]
    },
    {
     "name": "stderr",
     "output_type": "stream",
     "text": [
      "Epoch 8/30: 100%|██████████| 198/198 [00:06<00:00, 29.59it/s]\n"
     ]
    },
    {
     "name": "stdout",
     "output_type": "stream",
     "text": [
      "Epoch 8/30, Train Loss: 0.6022, Val Loss: 0.6006\n"
     ]
    },
    {
     "name": "stderr",
     "output_type": "stream",
     "text": [
      "Epoch 9/30: 100%|██████████| 198/198 [00:06<00:00, 30.17it/s]\n"
     ]
    },
    {
     "name": "stdout",
     "output_type": "stream",
     "text": [
      "Epoch 9/30, Train Loss: 0.6008, Val Loss: 0.5990\n"
     ]
    },
    {
     "name": "stderr",
     "output_type": "stream",
     "text": [
      "Epoch 10/30: 100%|██████████| 198/198 [00:06<00:00, 30.31it/s]\n"
     ]
    },
    {
     "name": "stdout",
     "output_type": "stream",
     "text": [
      "Epoch 10/30, Train Loss: 0.5995, Val Loss: 0.5973\n"
     ]
    },
    {
     "name": "stderr",
     "output_type": "stream",
     "text": [
      "Epoch 11/30: 100%|██████████| 198/198 [00:06<00:00, 29.63it/s]\n"
     ]
    },
    {
     "name": "stdout",
     "output_type": "stream",
     "text": [
      "Epoch 11/30, Train Loss: 0.5977, Val Loss: 0.5973\n"
     ]
    },
    {
     "name": "stderr",
     "output_type": "stream",
     "text": [
      "Epoch 12/30: 100%|██████████| 198/198 [00:06<00:00, 28.73it/s]\n"
     ]
    },
    {
     "name": "stdout",
     "output_type": "stream",
     "text": [
      "Epoch 12/30, Train Loss: 0.5966, Val Loss: 0.5985\n"
     ]
    },
    {
     "name": "stderr",
     "output_type": "stream",
     "text": [
      "Epoch 13/30: 100%|██████████| 198/198 [00:06<00:00, 29.56it/s]\n"
     ]
    },
    {
     "name": "stdout",
     "output_type": "stream",
     "text": [
      "Epoch 13/30, Train Loss: 0.5956, Val Loss: 0.5991\n"
     ]
    },
    {
     "name": "stderr",
     "output_type": "stream",
     "text": [
      "Epoch 14/30: 100%|██████████| 198/198 [00:06<00:00, 29.32it/s]\n"
     ]
    },
    {
     "name": "stdout",
     "output_type": "stream",
     "text": [
      "Epoch 14/30, Train Loss: 0.5942, Val Loss: 0.5970\n"
     ]
    },
    {
     "name": "stderr",
     "output_type": "stream",
     "text": [
      "Epoch 15/30: 100%|██████████| 198/198 [00:06<00:00, 29.49it/s]\n"
     ]
    },
    {
     "name": "stdout",
     "output_type": "stream",
     "text": [
      "Epoch 15/30, Train Loss: 0.5936, Val Loss: 0.5975\n"
     ]
    },
    {
     "name": "stderr",
     "output_type": "stream",
     "text": [
      "Epoch 16/30: 100%|██████████| 198/198 [00:06<00:00, 28.54it/s]\n"
     ]
    },
    {
     "name": "stdout",
     "output_type": "stream",
     "text": [
      "Epoch 16/30, Train Loss: 0.5924, Val Loss: 0.5960\n"
     ]
    },
    {
     "name": "stderr",
     "output_type": "stream",
     "text": [
      "Epoch 17/30: 100%|██████████| 198/198 [00:07<00:00, 28.20it/s]\n"
     ]
    },
    {
     "name": "stdout",
     "output_type": "stream",
     "text": [
      "Epoch 17/30, Train Loss: 0.5920, Val Loss: 0.5967\n"
     ]
    },
    {
     "name": "stderr",
     "output_type": "stream",
     "text": [
      "Epoch 18/30: 100%|██████████| 198/198 [00:06<00:00, 29.20it/s]\n"
     ]
    },
    {
     "name": "stdout",
     "output_type": "stream",
     "text": [
      "Epoch 18/30, Train Loss: 0.5908, Val Loss: 0.5949\n"
     ]
    },
    {
     "name": "stderr",
     "output_type": "stream",
     "text": [
      "Epoch 19/30: 100%|██████████| 198/198 [00:06<00:00, 29.40it/s]\n"
     ]
    },
    {
     "name": "stdout",
     "output_type": "stream",
     "text": [
      "Epoch 19/30, Train Loss: 0.5899, Val Loss: 0.5962\n"
     ]
    },
    {
     "name": "stderr",
     "output_type": "stream",
     "text": [
      "Epoch 20/30: 100%|██████████| 198/198 [00:07<00:00, 27.70it/s]\n"
     ]
    },
    {
     "name": "stdout",
     "output_type": "stream",
     "text": [
      "Epoch 20/30, Train Loss: 0.5891, Val Loss: 0.5954\n"
     ]
    },
    {
     "name": "stderr",
     "output_type": "stream",
     "text": [
      "Epoch 21/30: 100%|██████████| 198/198 [00:07<00:00, 27.48it/s]\n"
     ]
    },
    {
     "name": "stdout",
     "output_type": "stream",
     "text": [
      "Epoch 21/30, Train Loss: 0.5882, Val Loss: 0.5961\n"
     ]
    },
    {
     "name": "stderr",
     "output_type": "stream",
     "text": [
      "Epoch 22/30: 100%|██████████| 198/198 [00:06<00:00, 28.64it/s]\n"
     ]
    },
    {
     "name": "stdout",
     "output_type": "stream",
     "text": [
      "Epoch 22/30, Train Loss: 0.5874, Val Loss: 0.5969\n"
     ]
    },
    {
     "name": "stderr",
     "output_type": "stream",
     "text": [
      "Epoch 23/30: 100%|██████████| 198/198 [00:06<00:00, 29.03it/s]\n"
     ]
    },
    {
     "name": "stdout",
     "output_type": "stream",
     "text": [
      "Epoch 23/30, Train Loss: 0.5829, Val Loss: 0.5980\n",
      "Early stopping triggered after 23 epochs\n",
      "Classification model training took: 159.80 seconds\n",
      "\n",
      "Training ResNet regression model...\n"
     ]
    },
    {
     "name": "stderr",
     "output_type": "stream",
     "text": [
      "Epoch 1/30: 100%|██████████| 198/198 [00:07<00:00, 27.27it/s]\n"
     ]
    },
    {
     "name": "stdout",
     "output_type": "stream",
     "text": [
      "Epoch 1/30, Train Loss: 2772.2285, Val Loss: 2522.4074\n"
     ]
    },
    {
     "name": "stderr",
     "output_type": "stream",
     "text": [
      "Epoch 2/30: 100%|██████████| 198/198 [00:07<00:00, 27.92it/s]\n"
     ]
    },
    {
     "name": "stdout",
     "output_type": "stream",
     "text": [
      "Epoch 2/30, Train Loss: 2566.7119, Val Loss: 2420.0447\n"
     ]
    },
    {
     "name": "stderr",
     "output_type": "stream",
     "text": [
      "Epoch 3/30: 100%|██████████| 198/198 [00:07<00:00, 28.00it/s]\n"
     ]
    },
    {
     "name": "stdout",
     "output_type": "stream",
     "text": [
      "Epoch 3/30, Train Loss: 2529.7128, Val Loss: 2418.7185\n"
     ]
    },
    {
     "name": "stderr",
     "output_type": "stream",
     "text": [
      "Epoch 4/30: 100%|██████████| 198/198 [00:06<00:00, 28.89it/s]\n"
     ]
    },
    {
     "name": "stdout",
     "output_type": "stream",
     "text": [
      "Epoch 4/30, Train Loss: 2529.0551, Val Loss: 2419.2740\n"
     ]
    },
    {
     "name": "stderr",
     "output_type": "stream",
     "text": [
      "Epoch 5/30: 100%|██████████| 198/198 [00:06<00:00, 29.27it/s]\n"
     ]
    },
    {
     "name": "stdout",
     "output_type": "stream",
     "text": [
      "Epoch 5/30, Train Loss: 2529.8910, Val Loss: 2418.2405\n"
     ]
    },
    {
     "name": "stderr",
     "output_type": "stream",
     "text": [
      "Epoch 6/30: 100%|██████████| 198/198 [00:07<00:00, 28.27it/s]\n"
     ]
    },
    {
     "name": "stdout",
     "output_type": "stream",
     "text": [
      "Epoch 6/30, Train Loss: 2528.7097, Val Loss: 2418.1348\n"
     ]
    },
    {
     "name": "stderr",
     "output_type": "stream",
     "text": [
      "Epoch 7/30: 100%|██████████| 198/198 [00:07<00:00, 27.76it/s]\n"
     ]
    },
    {
     "name": "stdout",
     "output_type": "stream",
     "text": [
      "Epoch 7/30, Train Loss: 2528.3561, Val Loss: 2419.7749\n"
     ]
    },
    {
     "name": "stderr",
     "output_type": "stream",
     "text": [
      "Epoch 8/30: 100%|██████████| 198/198 [00:06<00:00, 29.19it/s]\n"
     ]
    },
    {
     "name": "stdout",
     "output_type": "stream",
     "text": [
      "Epoch 8/30, Train Loss: 2528.6236, Val Loss: 2419.3810\n"
     ]
    },
    {
     "name": "stderr",
     "output_type": "stream",
     "text": [
      "Epoch 9/30: 100%|██████████| 198/198 [00:06<00:00, 28.54it/s]\n"
     ]
    },
    {
     "name": "stdout",
     "output_type": "stream",
     "text": [
      "Epoch 9/30, Train Loss: 2527.9915, Val Loss: 2419.0446\n"
     ]
    },
    {
     "name": "stderr",
     "output_type": "stream",
     "text": [
      "Epoch 10/30: 100%|██████████| 198/198 [00:06<00:00, 28.46it/s]\n"
     ]
    },
    {
     "name": "stdout",
     "output_type": "stream",
     "text": [
      "Epoch 10/30, Train Loss: 2526.5560, Val Loss: 2420.0756\n"
     ]
    },
    {
     "name": "stderr",
     "output_type": "stream",
     "text": [
      "Epoch 11/30: 100%|██████████| 198/198 [00:07<00:00, 27.72it/s]\n"
     ]
    },
    {
     "name": "stdout",
     "output_type": "stream",
     "text": [
      "Epoch 11/30, Train Loss: 2526.2844, Val Loss: 2420.8351\n",
      "Early stopping triggered after 11 epochs\n",
      "Regression model training took: 79.93 seconds\n",
      "\n",
      "Evaluating classification model...\n",
      "Classification Accuracy: 67.88%\n",
      "Classification ROC AUC: 0.7419\n",
      "Warning: Class '1' not present in test results. Using default metrics.\n",
      "\n",
      "Evaluating regression model...\n",
      "Regression Mean Squared Error: 2420.84\n",
      "Regression Root Mean Squared Error: 49.20 minutes\n",
      "Regression Mean Absolute Error: 29.74 minutes\n",
      "Regression R² Score: -0.0012\n",
      "Preprocessor saved to ./dep_delay_nn/year_2024\\resnet_preprocessor_2024.joblib\n",
      "\n",
      "ResNet model training for 2024 complete! Total processing time: 328.36 seconds\n",
      "\n",
      "Model for year 2024 completed successfully!\n",
      "\n",
      "Comparing ResNet models across years...\n",
      "Comparison summary saved to ./dep_delay_nn/comparison\\dep_delay_nn_summary.csv\n",
      "ResNet model comparison completed!\n",
      "\n",
      "Year-by-Year ResNet Model Training Summary:\n",
      "\n",
      "Year 2021:\n",
      "  Total flights: 171,382\n",
      "  Classification accuracy: 72.71%\n",
      "  Classification AUC: 0.7215\n",
      "  Regression RMSE: 28.70 minutes\n",
      "  Regression R²: -0.0035\n",
      "  Mean delay: 6.99 minutes\n",
      "  Delay rate: 32.01%\n",
      "  Training time: 142.75 seconds\n",
      "\n",
      "Year 2022:\n",
      "  Total flights: 205,420\n",
      "  Classification accuracy: 66.37%\n",
      "  Classification AUC: 0.7138\n",
      "  Regression RMSE: 38.48 minutes\n",
      "  Regression R²: -0.0006\n",
      "  Mean delay: 14.56 minutes\n",
      "  Delay rate: 44.43%\n",
      "  Training time: 169.98 seconds\n",
      "\n",
      "Year 2023:\n",
      "  Total flights: 219,176\n",
      "  Classification accuracy: 69.31%\n",
      "  Classification AUC: 0.7348\n",
      "  Regression RMSE: 37.43 minutes\n",
      "  Regression R²: -0.0014\n",
      "  Mean delay: 12.35 minutes\n",
      "  Delay rate: 40.07%\n",
      "  Training time: 213.80 seconds\n",
      "\n",
      "Year 2024:\n",
      "  Total flights: 225,165\n",
      "  Classification accuracy: 67.88%\n",
      "  Classification AUC: 0.7419\n",
      "  Regression RMSE: 49.20 minutes\n",
      "  Regression R²: -0.0012\n",
      "  Mean delay: 20.52 minutes\n",
      "  Delay rate: 46.87%\n",
      "  Training time: 241.28 seconds\n",
      "\n",
      "ResNet model training complete! Check output directories for detailed results.\n"
     ]
    }
   ],
   "execution_count": 5
  }
 ],
 "metadata": {
  "kernelspec": {
   "display_name": "py311",
   "language": "python",
   "name": "python3"
  },
  "language_info": {
   "codemirror_mode": {
    "name": "ipython",
    "version": 3
   },
   "file_extension": ".py",
   "mimetype": "text/x-python",
   "name": "python",
   "nbconvert_exporter": "python",
   "pygments_lexer": "ipython3",
   "version": "3.11.8"
  }
 },
 "nbformat": 4,
 "nbformat_minor": 2
}
