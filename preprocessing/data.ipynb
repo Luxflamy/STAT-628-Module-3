{
 "cells": [
  {
   "cell_type": "code",
   "execution_count": null,
   "id": "97802734",
   "metadata": {},
   "outputs": [],
   "source": [
    "import os\n",
    "from preprocess import clean_flight_data"
   ]
  },
  {
   "cell_type": "code",
   "execution_count": null,
   "id": "a717fec6",
   "metadata": {},
   "outputs": [],
   "source": [
    "##################################\n",
    "# base\n",
    "# ├── cleaned_data\n",
    "# ├── Airline Summer On-time\n",
    "# ├── git_code\n",
    "# │   └── preprocessing\n",
    "# │       └── data.ipynb\n",
    "##################################\n",
    "\n",
    "base_dir = os.path.abspath(os.path.join(\"..\", \"..\"))\n",
    "raw_data_dir = os.path.join(base_dir, \"Airline Summer On-time\")\n",
    "output_dir = os.path.join(base_dir, \"cleaned_data\")\n",
    "airport_info = os.path.join(\n",
    "    base_dir, \"git_code\", \"preprocessing\", \"our_airports_info.csv\")\n",
    "airport_tz = os.path.join(base_dir, \"git_code\",\n",
    "                          \"preprocessing\", \"airport_timezone.csv\")\n",
    "\n",
    "os.makedirs(output_dir, exist_ok=True)"
   ]
  },
  {
   "cell_type": "code",
   "execution_count": null,
   "id": "01a4e26d",
   "metadata": {},
   "outputs": [],
   "source": [
    "# # debug\n",
    "\n",
    "# for folder in os.listdir[\"May2023\"]:\n",
    "#     folder_path = os.path.join(raw_data_dir, folder)\n",
    "#     input_csv = os.path.join(folder_path, \"T_ONTIME_MARKETING.csv\")\n",
    "\n",
    "#     if os.path.isdir(folder_path) and os.path.isfile(input_csv):\n",
    "#         output_csv = os.path.join(output_dir, f\"{folder}.csv\")\n",
    "#         print(f\"Processing {input_csv} -> {output_csv}\")\n",
    "#         clean_flight_data(input_csv, airport_info, airport_tz, output_csv)"
   ]
  },
  {
   "cell_type": "code",
   "execution_count": null,
   "id": "76e3aa55",
   "metadata": {},
   "outputs": [],
   "source": [
    "# every month may2021 to aug2024\n",
    "\n",
    "for folder in os.listdir(raw_data_dir):\n",
    "    folder_path = os.path.join(raw_data_dir, folder)\n",
    "    input_csv = os.path.join(folder_path, \"T_ONTIME_MARKETING.csv\")\n",
    "\n",
    "    if os.path.isdir(folder_path) and os.path.isfile(input_csv):\n",
    "        output_csv = os.path.join(output_dir, f\"{folder}.csv\")\n",
    "        print(f\"Processing {input_csv} -> {output_csv}\")\n",
    "        clean_flight_data(input_csv, airport_info, airport_tz, output_csv)"
   ]
  },
  {
   "cell_type": "code",
   "execution_count": null,
   "id": "19d470a8",
   "metadata": {},
   "outputs": [],
   "source": [
    "import pandas as pd\n",
    "import os\n",
    "\n",
    "cleaned_file_path = os.path.abspath(os.path.join(\n",
    "    \"..\", \"..\", \"cleaned_data\", \"May2023.csv\"))\n",
    "\n",
    "df = pd.read_csv(cleaned_file_path)\n",
    "df.head()\n",
    "# df.head().to_csv(\"head.csv\", index=False)"
   ]
  },
  {
   "cell_type": "code",
   "execution_count": null,
   "id": "ce175049",
   "metadata": {},
   "outputs": [],
   "source": []
  }
 ],
 "metadata": {
  "kernelspec": {
   "display_name": "base",
   "language": "python",
   "name": "python3"
  },
  "language_info": {
   "codemirror_mode": {
    "name": "ipython",
    "version": 3
   },
   "file_extension": ".py",
   "mimetype": "text/x-python",
   "name": "python",
   "nbconvert_exporter": "python",
   "pygments_lexer": "ipython3",
   "version": "3.12.9"
  }
 },
 "nbformat": 4,
 "nbformat_minor": 5
}
