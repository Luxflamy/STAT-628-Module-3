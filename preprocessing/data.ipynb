{
 "cells": [
  {
   "cell_type": "code",
   "execution_count": null,
   "id": "97802734",
   "metadata": {},
   "outputs": [],
   "source": [
    "import os\n",
    "from preprocess import clean_flight_data"
   ]
  },
  {
   "cell_type": "code",
   "execution_count": null,
   "id": "a717fec6",
   "metadata": {},
   "outputs": [],
   "source": [
    "##################################\n",
    "# base\n",
    "# ├── cleaned_data\n",
    "# ├── Airline Summer On-time\n",
    "# ├── weather_data\n",
    "# │   └── ABI_2021_Aug_1.csv\n",
    "# │   └── ......\n",
    "# ├── git_code\n",
    "# │   └── preprocessing\n",
    "# │       └── data.ipynb\n",
    "##################################\n",
    "\n",
    "base_dir = os.path.abspath(os.path.join(\"..\", \"..\"))\n",
    "raw_data_dir = os.path.join(base_dir, \"Airline Summer On-time\")\n",
    "output_dir = os.path.join(base_dir, \"cleaned_data\")\n",
    "airport_info = os.path.join(\"our_airports_info.csv\")\n",
    "airport_tz = os.path.join(\"airport_timezone.csv\")\n",
    "\n",
    "os.makedirs(output_dir, exist_ok=True)"
   ]
  },
  {
   "cell_type": "code",
   "execution_count": null,
   "id": "01a4e26d",
   "metadata": {},
   "outputs": [],
   "source": [
    "# # debug\n",
    "\n",
    "# for folder in os.listdir[\"May2023\"]:\n",
    "#     folder_path = os.path.join(raw_data_dir, folder)\n",
    "#     input_csv = os.path.join(folder_path, \"T_ONTIME_MARKETING.csv\")\n",
    "\n",
    "#     if os.path.isdir(folder_path) and os.path.isfile(input_csv):\n",
    "#         output_csv = os.path.join(output_dir, f\"{folder}.csv\")\n",
    "#         print(f\"Processing {input_csv} -> {output_csv}\")\n",
    "#         clean_flight_data(input_csv, airport_info, airport_tz, output_csv)"
   ]
  },
  {
   "cell_type": "code",
   "execution_count": null,
   "id": "76e3aa55",
   "metadata": {},
   "outputs": [],
   "source": [
    "# every month may2021 to aug2024\n",
    "\n",
    "for folder in os.listdir(raw_data_dir):\n",
    "    folder_path = os.path.join(raw_data_dir, folder)\n",
    "    input_csv = os.path.join(folder_path, \"T_ONTIME_MARKETING.csv\")\n",
    "\n",
    "    if os.path.isdir(folder_path) and os.path.isfile(input_csv):\n",
    "        output_csv = os.path.join(output_dir, f\"{folder}.csv\")\n",
    "        print(f\"Processing {input_csv} -> {output_csv}\")\n",
    "        clean_flight_data(input_csv, airport_info, airport_tz, output_csv)"
   ]
  },
  {
   "cell_type": "code",
   "execution_count": null,
   "id": "19d470a8",
   "metadata": {},
   "outputs": [],
   "source": [
    "import pandas as pd\n",
    "import os\n",
    "\n",
    "cleaned_file_path = os.path.abspath(os.path.join(\n",
    "    \"..\", \"..\", \"cleaned_data\", \"May2023.csv\"))\n",
    "\n",
    "df = pd.read_csv(cleaned_file_path)\n",
    "df.head()\n",
    "# df.head().to_csv(\"head.csv\", index=False)"
   ]
  },
  {
   "cell_type": "code",
   "execution_count": null,
   "id": "ce175049",
   "metadata": {},
   "outputs": [
    {
     "name": "stdout",
     "output_type": "stream",
     "text": [
      "ADK_2021_Aug_1.csv: 26 rows\n",
      "ADK_2021_Jul_1.csv: 7 rows\n",
      "ADK_2021_Jun_1.csv: 28 rows\n",
      "ADK_2022_Aug_1.csv: 29 rows\n",
      "ADK_2022_Jul_1.csv: 29 rows\n",
      "ADK_2022_Jun_1.csv: 29 rows\n",
      "ADK_2023_Jun_1.csv: 26 rows\n",
      "ADK_2023_May_1.csv: 28 rows\n",
      "ADK_2024_Aug_1.csv: 27 rows\n",
      "ATW_2021_Aug_1.csv: 17 rows\n",
      "ATW_2021_Jun_1.csv: 23 rows\n",
      "ATW_2021_May_1.csv: 5 rows\n",
      "ATW_2022_Aug_1.csv: 1 rows\n",
      "ATW_2022_Jun_1.csv: 23 rows\n",
      "ATW_2023_May_1.csv: 14 rows\n",
      "ATW_2024_Aug_1.csv: 27 rows\n",
      "ATW_2024_May_1.csv: 26 rows\n",
      "COD_2022_Jul_1.csv: 1 rows\n",
      "DAY_2021_Aug_1.csv: 29 rows\n",
      "DAY_2021_Jul_1.csv: 20 rows\n",
      "ESC_2023_Jun_1.csv: 29 rows\n",
      "ESC_2023_May_1.csv: 28 rows\n",
      "ESC_2024_Aug_1.csv: 29 rows\n",
      "GCC_2024_Jul_1.csv: 27 rows\n",
      "HDN_2023_Jun_1.csv: 28 rows\n",
      "HDN_2023_May_1.csv: 28 rows\n",
      "HDN_2024_Aug_1.csv: 28 rows\n",
      "IND_2021_Jun_1.csv: 29 rows\n",
      "JAC_2022_Jul_1.csv: 1 rows\n",
      "JAC_2024_Jun_1.csv: 23 rows\n",
      "LAS_2021_Jul_1.csv: 29 rows\n",
      "LAS_2021_Jun_1.csv: 29 rows\n",
      "LAS_2022_Aug_1.csv: 21 rows\n",
      "LAS_2023_Jun_1.csv: 29 rows\n",
      "LAS_2023_May_1.csv: 28 rows\n",
      "LAS_2024_Aug_1.csv: 29 rows\n",
      "LBL_2021_Jun_1.csv: 29 rows\n",
      "LBL_2023_Jun_1.csv: 29 rows\n",
      "LBL_2023_May_1.csv: 28 rows\n",
      "LBL_2024_Aug_1.csv: 29 rows\n",
      "LBL_2024_Jul_1.csv: 28 rows\n",
      "MSY_2021_Aug_3.csv: 29 rows\n",
      "OKC_2023_Jun_1.csv: 29 rows\n",
      "OKC_2024_Jun_1.csv: 29 rows\n",
      "PIT_2023_Jul_1.csv: 29 rows\n",
      "PQI_2024_Aug_1.csv: 12 rows\n",
      "SHV_2023_Jun_1.csv: 27 rows\n",
      "TOL_2024_Jul_1.csv: 1 rows\n"
     ]
    }
   ],
   "source": [
    "##################################\n",
    "# base\n",
    "# ├── cleaned_data\n",
    "# ├── Airline Summer On-time\n",
    "# ├── weather_data\n",
    "# │   └── ABI_2021_Aug_1.csv\n",
    "# │   └── ......\n",
    "# ├── git_code\n",
    "# │   └── preprocessing\n",
    "# │       └── data.ipynb\n",
    "##################################\n",
    "\n",
    "import os\n",
    "import pandas as pd\n",
    "\n",
    "# 设置目标文件夹路径\n",
    "folder_path = os.path.abspath(os.path.join(\n",
    "    \"..\", \"..\", \"weather_data\"))\n",
    "\n",
    "# 遍历文件夹中的所有 CSV 文件\n",
    "for filename in os.listdir(folder_path):\n",
    "    if filename.endswith('.csv'):\n",
    "        file_path = os.path.join(folder_path, filename)\n",
    "        try:\n",
    "            df = pd.read_csv(file_path)\n",
    "            if len(df) < 30:\n",
    "                print(f\"{filename}: {len(df)} rows\")\n",
    "        except Exception as e:\n",
    "            print(f\"Failed to read {filename}: {e}\")"
   ]
  }
 ],
 "metadata": {
  "kernelspec": {
   "display_name": "base",
   "language": "python",
   "name": "python3"
  },
  "language_info": {
   "codemirror_mode": {
    "name": "ipython",
    "version": 3
   },
   "file_extension": ".py",
   "mimetype": "text/x-python",
   "name": "python",
   "nbconvert_exporter": "python",
   "pygments_lexer": "ipython3",
   "version": "3.12.9"
  }
 },
 "nbformat": 4,
 "nbformat_minor": 5
}
